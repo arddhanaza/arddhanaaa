{
  "nbformat": 4,
  "nbformat_minor": 0,
  "metadata": {
    "colab": {
      "name": "Model Training Capstone.ipynb",
      "provenance": [],
      "collapsed_sections": [],
      "mount_file_id": "16kJ8msOppkdXDI4-bxW2i7DWJag3-mBs",
      "authorship_tag": "ABX9TyOeakVliQXWGTUsIV1wSXj9",
      "include_colab_link": true
    },
    "kernelspec": {
      "name": "python3",
      "display_name": "Python 3"
    },
    "language_info": {
      "name": "python"
    },
    "widgets": {
      "application/vnd.jupyter.widget-state+json": {
        "ba53e4b07e8e46e29c0edbf3ec081e0e": {
          "model_module": "@jupyter-widgets/controls",
          "model_name": "HBoxModel",
          "state": {
            "_view_name": "HBoxView",
            "_dom_classes": [],
            "_model_name": "HBoxModel",
            "_view_module": "@jupyter-widgets/controls",
            "_model_module_version": "1.5.0",
            "_view_count": null,
            "_view_module_version": "1.5.0",
            "box_style": "",
            "layout": "IPY_MODEL_0832d482ae09430c99e9c85908d6c953",
            "_model_module": "@jupyter-widgets/controls",
            "children": [
              "IPY_MODEL_54e5174a0b1a464aa92182beaa2a123f",
              "IPY_MODEL_3a00d3c212604356ac5a132483ed0ad6"
            ]
          }
        },
        "0832d482ae09430c99e9c85908d6c953": {
          "model_module": "@jupyter-widgets/base",
          "model_name": "LayoutModel",
          "state": {
            "_view_name": "LayoutView",
            "grid_template_rows": null,
            "right": null,
            "justify_content": null,
            "_view_module": "@jupyter-widgets/base",
            "overflow": null,
            "_model_module_version": "1.2.0",
            "_view_count": null,
            "flex_flow": null,
            "width": null,
            "min_width": null,
            "border": null,
            "align_items": null,
            "bottom": null,
            "_model_module": "@jupyter-widgets/base",
            "top": null,
            "grid_column": null,
            "overflow_y": null,
            "overflow_x": null,
            "grid_auto_flow": null,
            "grid_area": null,
            "grid_template_columns": null,
            "flex": null,
            "_model_name": "LayoutModel",
            "justify_items": null,
            "grid_row": null,
            "max_height": null,
            "align_content": null,
            "visibility": null,
            "align_self": null,
            "height": null,
            "min_height": null,
            "padding": null,
            "grid_auto_rows": null,
            "grid_gap": null,
            "max_width": null,
            "order": null,
            "_view_module_version": "1.2.0",
            "grid_template_areas": null,
            "object_position": null,
            "object_fit": null,
            "grid_auto_columns": null,
            "margin": null,
            "display": null,
            "left": null
          }
        },
        "54e5174a0b1a464aa92182beaa2a123f": {
          "model_module": "@jupyter-widgets/controls",
          "model_name": "FloatProgressModel",
          "state": {
            "_view_name": "ProgressView",
            "style": "IPY_MODEL_16d4bb6c62c34068948e4a72e38d150f",
            "_dom_classes": [],
            "description": "progress: 100%",
            "_model_name": "FloatProgressModel",
            "bar_style": "success",
            "max": 75750,
            "_view_module": "@jupyter-widgets/controls",
            "_model_module_version": "1.5.0",
            "value": 75750,
            "_view_count": null,
            "_view_module_version": "1.5.0",
            "orientation": "horizontal",
            "min": 0,
            "description_tooltip": null,
            "_model_module": "@jupyter-widgets/controls",
            "layout": "IPY_MODEL_b8c57d6de0474f8e849b50b60ed0c99b"
          }
        },
        "3a00d3c212604356ac5a132483ed0ad6": {
          "model_module": "@jupyter-widgets/controls",
          "model_name": "HTMLModel",
          "state": {
            "_view_name": "HTMLView",
            "style": "IPY_MODEL_61521e4518c7491bb165b2ec0a621c02",
            "_dom_classes": [],
            "description": "",
            "_model_name": "HTMLModel",
            "placeholder": "​",
            "_view_module": "@jupyter-widgets/controls",
            "_model_module_version": "1.5.0",
            "value": " 75750/75750 [00:02&lt;00:00, 36253.58it/s]",
            "_view_count": null,
            "_view_module_version": "1.5.0",
            "description_tooltip": null,
            "_model_module": "@jupyter-widgets/controls",
            "layout": "IPY_MODEL_6f4f9e09c8234fbf84b34ea4a37bd724"
          }
        },
        "16d4bb6c62c34068948e4a72e38d150f": {
          "model_module": "@jupyter-widgets/controls",
          "model_name": "ProgressStyleModel",
          "state": {
            "_view_name": "StyleView",
            "_model_name": "ProgressStyleModel",
            "description_width": "initial",
            "_view_module": "@jupyter-widgets/base",
            "_model_module_version": "1.5.0",
            "_view_count": null,
            "_view_module_version": "1.2.0",
            "bar_color": null,
            "_model_module": "@jupyter-widgets/controls"
          }
        },
        "b8c57d6de0474f8e849b50b60ed0c99b": {
          "model_module": "@jupyter-widgets/base",
          "model_name": "LayoutModel",
          "state": {
            "_view_name": "LayoutView",
            "grid_template_rows": null,
            "right": null,
            "justify_content": null,
            "_view_module": "@jupyter-widgets/base",
            "overflow": null,
            "_model_module_version": "1.2.0",
            "_view_count": null,
            "flex_flow": null,
            "width": null,
            "min_width": null,
            "border": null,
            "align_items": null,
            "bottom": null,
            "_model_module": "@jupyter-widgets/base",
            "top": null,
            "grid_column": null,
            "overflow_y": null,
            "overflow_x": null,
            "grid_auto_flow": null,
            "grid_area": null,
            "grid_template_columns": null,
            "flex": null,
            "_model_name": "LayoutModel",
            "justify_items": null,
            "grid_row": null,
            "max_height": null,
            "align_content": null,
            "visibility": null,
            "align_self": null,
            "height": null,
            "min_height": null,
            "padding": null,
            "grid_auto_rows": null,
            "grid_gap": null,
            "max_width": null,
            "order": null,
            "_view_module_version": "1.2.0",
            "grid_template_areas": null,
            "object_position": null,
            "object_fit": null,
            "grid_auto_columns": null,
            "margin": null,
            "display": null,
            "left": null
          }
        },
        "61521e4518c7491bb165b2ec0a621c02": {
          "model_module": "@jupyter-widgets/controls",
          "model_name": "DescriptionStyleModel",
          "state": {
            "_view_name": "StyleView",
            "_model_name": "DescriptionStyleModel",
            "description_width": "",
            "_view_module": "@jupyter-widgets/base",
            "_model_module_version": "1.5.0",
            "_view_count": null,
            "_view_module_version": "1.2.0",
            "_model_module": "@jupyter-widgets/controls"
          }
        },
        "6f4f9e09c8234fbf84b34ea4a37bd724": {
          "model_module": "@jupyter-widgets/base",
          "model_name": "LayoutModel",
          "state": {
            "_view_name": "LayoutView",
            "grid_template_rows": null,
            "right": null,
            "justify_content": null,
            "_view_module": "@jupyter-widgets/base",
            "overflow": null,
            "_model_module_version": "1.2.0",
            "_view_count": null,
            "flex_flow": null,
            "width": null,
            "min_width": null,
            "border": null,
            "align_items": null,
            "bottom": null,
            "_model_module": "@jupyter-widgets/base",
            "top": null,
            "grid_column": null,
            "overflow_y": null,
            "overflow_x": null,
            "grid_auto_flow": null,
            "grid_area": null,
            "grid_template_columns": null,
            "flex": null,
            "_model_name": "LayoutModel",
            "justify_items": null,
            "grid_row": null,
            "max_height": null,
            "align_content": null,
            "visibility": null,
            "align_self": null,
            "height": null,
            "min_height": null,
            "padding": null,
            "grid_auto_rows": null,
            "grid_gap": null,
            "max_width": null,
            "order": null,
            "_view_module_version": "1.2.0",
            "grid_template_areas": null,
            "object_position": null,
            "object_fit": null,
            "grid_auto_columns": null,
            "margin": null,
            "display": null,
            "left": null
          }
        },
        "682d864c59dc433d8586ea4525f5782f": {
          "model_module": "@jupyter-widgets/controls",
          "model_name": "HBoxModel",
          "state": {
            "_view_name": "HBoxView",
            "_dom_classes": [],
            "_model_name": "HBoxModel",
            "_view_module": "@jupyter-widgets/controls",
            "_model_module_version": "1.5.0",
            "_view_count": null,
            "_view_module_version": "1.5.0",
            "box_style": "",
            "layout": "IPY_MODEL_68358caa45174dc4b02c1b5548c3489b",
            "_model_module": "@jupyter-widgets/controls",
            "children": [
              "IPY_MODEL_18c833e0c4964db599ba947d0d1e80e6",
              "IPY_MODEL_900d657796714b9083225754e33f34ec"
            ]
          }
        },
        "68358caa45174dc4b02c1b5548c3489b": {
          "model_module": "@jupyter-widgets/base",
          "model_name": "LayoutModel",
          "state": {
            "_view_name": "LayoutView",
            "grid_template_rows": null,
            "right": null,
            "justify_content": null,
            "_view_module": "@jupyter-widgets/base",
            "overflow": null,
            "_model_module_version": "1.2.0",
            "_view_count": null,
            "flex_flow": null,
            "width": null,
            "min_width": null,
            "border": null,
            "align_items": null,
            "bottom": null,
            "_model_module": "@jupyter-widgets/base",
            "top": null,
            "grid_column": null,
            "overflow_y": null,
            "overflow_x": null,
            "grid_auto_flow": null,
            "grid_area": null,
            "grid_template_columns": null,
            "flex": null,
            "_model_name": "LayoutModel",
            "justify_items": null,
            "grid_row": null,
            "max_height": null,
            "align_content": null,
            "visibility": null,
            "align_self": null,
            "height": null,
            "min_height": null,
            "padding": null,
            "grid_auto_rows": null,
            "grid_gap": null,
            "max_width": null,
            "order": null,
            "_view_module_version": "1.2.0",
            "grid_template_areas": null,
            "object_position": null,
            "object_fit": null,
            "grid_auto_columns": null,
            "margin": null,
            "display": null,
            "left": null
          }
        },
        "18c833e0c4964db599ba947d0d1e80e6": {
          "model_module": "@jupyter-widgets/controls",
          "model_name": "FloatProgressModel",
          "state": {
            "_view_name": "ProgressView",
            "style": "IPY_MODEL_6ac0a0c78ad44d81b1374e88ec79be0d",
            "_dom_classes": [],
            "description": "progress: 100%",
            "_model_name": "FloatProgressModel",
            "bar_style": "success",
            "max": 25250,
            "_view_module": "@jupyter-widgets/controls",
            "_model_module_version": "1.5.0",
            "value": 25250,
            "_view_count": null,
            "_view_module_version": "1.5.0",
            "orientation": "horizontal",
            "min": 0,
            "description_tooltip": null,
            "_model_module": "@jupyter-widgets/controls",
            "layout": "IPY_MODEL_39cd807aa6ed47c7905d4bb01cd197ea"
          }
        },
        "900d657796714b9083225754e33f34ec": {
          "model_module": "@jupyter-widgets/controls",
          "model_name": "HTMLModel",
          "state": {
            "_view_name": "HTMLView",
            "style": "IPY_MODEL_b2c5dc2ba75344eeb2763553df7eb14f",
            "_dom_classes": [],
            "description": "",
            "_model_name": "HTMLModel",
            "placeholder": "​",
            "_view_module": "@jupyter-widgets/controls",
            "_model_module_version": "1.5.0",
            "value": " 25250/25250 [10:42&lt;00:00, 39.30it/s]",
            "_view_count": null,
            "_view_module_version": "1.5.0",
            "description_tooltip": null,
            "_model_module": "@jupyter-widgets/controls",
            "layout": "IPY_MODEL_660b3d74464b4c6986d0437b63f1722e"
          }
        },
        "6ac0a0c78ad44d81b1374e88ec79be0d": {
          "model_module": "@jupyter-widgets/controls",
          "model_name": "ProgressStyleModel",
          "state": {
            "_view_name": "StyleView",
            "_model_name": "ProgressStyleModel",
            "description_width": "initial",
            "_view_module": "@jupyter-widgets/base",
            "_model_module_version": "1.5.0",
            "_view_count": null,
            "_view_module_version": "1.2.0",
            "bar_color": null,
            "_model_module": "@jupyter-widgets/controls"
          }
        },
        "39cd807aa6ed47c7905d4bb01cd197ea": {
          "model_module": "@jupyter-widgets/base",
          "model_name": "LayoutModel",
          "state": {
            "_view_name": "LayoutView",
            "grid_template_rows": null,
            "right": null,
            "justify_content": null,
            "_view_module": "@jupyter-widgets/base",
            "overflow": null,
            "_model_module_version": "1.2.0",
            "_view_count": null,
            "flex_flow": null,
            "width": null,
            "min_width": null,
            "border": null,
            "align_items": null,
            "bottom": null,
            "_model_module": "@jupyter-widgets/base",
            "top": null,
            "grid_column": null,
            "overflow_y": null,
            "overflow_x": null,
            "grid_auto_flow": null,
            "grid_area": null,
            "grid_template_columns": null,
            "flex": null,
            "_model_name": "LayoutModel",
            "justify_items": null,
            "grid_row": null,
            "max_height": null,
            "align_content": null,
            "visibility": null,
            "align_self": null,
            "height": null,
            "min_height": null,
            "padding": null,
            "grid_auto_rows": null,
            "grid_gap": null,
            "max_width": null,
            "order": null,
            "_view_module_version": "1.2.0",
            "grid_template_areas": null,
            "object_position": null,
            "object_fit": null,
            "grid_auto_columns": null,
            "margin": null,
            "display": null,
            "left": null
          }
        },
        "b2c5dc2ba75344eeb2763553df7eb14f": {
          "model_module": "@jupyter-widgets/controls",
          "model_name": "DescriptionStyleModel",
          "state": {
            "_view_name": "StyleView",
            "_model_name": "DescriptionStyleModel",
            "description_width": "",
            "_view_module": "@jupyter-widgets/base",
            "_model_module_version": "1.5.0",
            "_view_count": null,
            "_view_module_version": "1.2.0",
            "_model_module": "@jupyter-widgets/controls"
          }
        },
        "660b3d74464b4c6986d0437b63f1722e": {
          "model_module": "@jupyter-widgets/base",
          "model_name": "LayoutModel",
          "state": {
            "_view_name": "LayoutView",
            "grid_template_rows": null,
            "right": null,
            "justify_content": null,
            "_view_module": "@jupyter-widgets/base",
            "overflow": null,
            "_model_module_version": "1.2.0",
            "_view_count": null,
            "flex_flow": null,
            "width": null,
            "min_width": null,
            "border": null,
            "align_items": null,
            "bottom": null,
            "_model_module": "@jupyter-widgets/base",
            "top": null,
            "grid_column": null,
            "overflow_y": null,
            "overflow_x": null,
            "grid_auto_flow": null,
            "grid_area": null,
            "grid_template_columns": null,
            "flex": null,
            "_model_name": "LayoutModel",
            "justify_items": null,
            "grid_row": null,
            "max_height": null,
            "align_content": null,
            "visibility": null,
            "align_self": null,
            "height": null,
            "min_height": null,
            "padding": null,
            "grid_auto_rows": null,
            "grid_gap": null,
            "max_width": null,
            "order": null,
            "_view_module_version": "1.2.0",
            "grid_template_areas": null,
            "object_position": null,
            "object_fit": null,
            "grid_auto_columns": null,
            "margin": null,
            "display": null,
            "left": null
          }
        }
      }
    }
  },
  "cells": [
    {
      "cell_type": "markdown",
      "metadata": {
        "id": "view-in-github",
        "colab_type": "text"
      },
      "source": [
        "<a href=\"https://colab.research.google.com/github/arddhanaza/foodprint-bangkit-capstone/blob/machine_learning/Model_Training_Capstone.ipynb\" target=\"_parent\"><img src=\"https://colab.research.google.com/assets/colab-badge.svg\" alt=\"Open In Colab\"/></a>"
      ]
    },
    {
      "cell_type": "code",
      "metadata": {
        "id": "1a3NR8nYXiRg"
      },
      "source": [
        "root_path = '/drive/MyDrive/datasets'\n",
        "DIR_DATA = '/content/drive/MyDrive/datasets/food101/food41/images'\n"
      ],
      "execution_count": 1,
      "outputs": []
    },
    {
      "cell_type": "code",
      "metadata": {
        "colab": {
          "base_uri": "https://localhost:8080/"
        },
        "id": "QjItJDwbSXpE",
        "outputId": "aa405cd6-8f44-497e-bad1-af0be7d76728"
      },
      "source": [
        "import tensorflow as tf\n",
        "print(tf.__version__)\n",
        "import keras_preprocessing\n",
        "from keras_preprocessing import image\n",
        "from keras_preprocessing.image import ImageDataGenerator\n",
        "\n",
        "import matplotlib.pyplot as plt\n",
        "import numpy as np\n",
        "import pandas as pd\n",
        "from tqdm.notebook import tqdm as note_book_tqdm\n",
        "\n",
        "note_book_tqdm.pandas(desc='progress: ')"
      ],
      "execution_count": 2,
      "outputs": [
        {
          "output_type": "stream",
          "text": [
            "2.4.1\n"
          ],
          "name": "stdout"
        },
        {
          "output_type": "stream",
          "text": [
            "/usr/local/lib/python3.7/dist-packages/tqdm/std.py:658: FutureWarning: The Panel class is removed from pandas. Accessing it from the top-level namespace will also be removed in the next version\n",
            "  from pandas import Panel\n"
          ],
          "name": "stderr"
        }
      ]
    },
    {
      "cell_type": "code",
      "metadata": {
        "id": "3Q8A-vOGYm_0"
      },
      "source": [
        "# !pip install -q kaggle\n",
        "# !mkdir -p ~/.kaggle\n",
        "# !cp kaggle.json ~/.kaggle/\n",
        "# !ls ~/.kaggle\n",
        "# !chmod 600 /root/.kaggle/kaggle.json  # set permission"
      ],
      "execution_count": 3,
      "outputs": []
    },
    {
      "cell_type": "code",
      "metadata": {
        "id": "WBrIXhz3Sedx"
      },
      "source": [
        "#Downloading the Assets \n",
        "#!kaggle datasets download  kmader/food41 -p /content/gdrive/MyDrive/datasets/food101/\n",
        "#!kaggle datasets list -s food41"
      ],
      "execution_count": 4,
      "outputs": []
    },
    {
      "cell_type": "code",
      "metadata": {
        "id": "e4WGrS_3Vb7n"
      },
      "source": [
        "# #Save the assets\n",
        "# import os\n",
        "# import zipfile\n",
        "# zip_target = 'gdrive/MyDrive/datasets/food101/food41.zip'\n",
        "# zip_ref = zipfile.ZipFile(zip_target,'r')\n",
        "# zip_ref.extractall('gdrive/MyDrive/datasets/food101/food41')\n",
        "# zip_ref.close()\n"
      ],
      "execution_count": 5,
      "outputs": []
    },
    {
      "cell_type": "code",
      "metadata": {
        "id": "tFQcWy4aoUOP"
      },
      "source": [
        "import os\n",
        "# !cp -r '/content/gdrive/MyDrive/datasets/food101/food41/images/' '/tmp/images'\n",
        "# !mkdir '/tmp/images/images/test'"
      ],
      "execution_count": 6,
      "outputs": []
    },
    {
      "cell_type": "code",
      "metadata": {
        "colab": {
          "base_uri": "https://localhost:8080/",
          "height": 419
        },
        "id": "f00Gr4yufpyh",
        "outputId": "a72bddef-5dff-4807-8999-47435ae41c42"
      },
      "source": [
        "import pandas as pd\n",
        "\n",
        "df_train = pd.read_csv('/content/drive/MyDrive/datasets/food101/food41/meta/train.txt', header=None, sep='/', names=['label','name'])\n",
        "df_test = pd.read_csv('/content/drive/MyDrive/datasets/food101/food41/meta/test.txt', header=None, sep='/', names=['label','name'])\n",
        "label_df = pd.read_csv('/content/drive/MyDrive/datasets/food101/food41/meta/classes.txt', header=None, sep='/', names=['label'])\n",
        "\n",
        "df_test"
      ],
      "execution_count": 7,
      "outputs": [
        {
          "output_type": "execute_result",
          "data": {
            "text/html": [
              "<div>\n",
              "<style scoped>\n",
              "    .dataframe tbody tr th:only-of-type {\n",
              "        vertical-align: middle;\n",
              "    }\n",
              "\n",
              "    .dataframe tbody tr th {\n",
              "        vertical-align: top;\n",
              "    }\n",
              "\n",
              "    .dataframe thead th {\n",
              "        text-align: right;\n",
              "    }\n",
              "</style>\n",
              "<table border=\"1\" class=\"dataframe\">\n",
              "  <thead>\n",
              "    <tr style=\"text-align: right;\">\n",
              "      <th></th>\n",
              "      <th>label</th>\n",
              "      <th>name</th>\n",
              "    </tr>\n",
              "  </thead>\n",
              "  <tbody>\n",
              "    <tr>\n",
              "      <th>0</th>\n",
              "      <td>apple_pie</td>\n",
              "      <td>1011328</td>\n",
              "    </tr>\n",
              "    <tr>\n",
              "      <th>1</th>\n",
              "      <td>apple_pie</td>\n",
              "      <td>101251</td>\n",
              "    </tr>\n",
              "    <tr>\n",
              "      <th>2</th>\n",
              "      <td>apple_pie</td>\n",
              "      <td>1034399</td>\n",
              "    </tr>\n",
              "    <tr>\n",
              "      <th>3</th>\n",
              "      <td>apple_pie</td>\n",
              "      <td>103801</td>\n",
              "    </tr>\n",
              "    <tr>\n",
              "      <th>4</th>\n",
              "      <td>apple_pie</td>\n",
              "      <td>1038694</td>\n",
              "    </tr>\n",
              "    <tr>\n",
              "      <th>...</th>\n",
              "      <td>...</td>\n",
              "      <td>...</td>\n",
              "    </tr>\n",
              "    <tr>\n",
              "      <th>25245</th>\n",
              "      <td>waffles</td>\n",
              "      <td>942009</td>\n",
              "    </tr>\n",
              "    <tr>\n",
              "      <th>25246</th>\n",
              "      <td>waffles</td>\n",
              "      <td>954028</td>\n",
              "    </tr>\n",
              "    <tr>\n",
              "      <th>25247</th>\n",
              "      <td>waffles</td>\n",
              "      <td>96181</td>\n",
              "    </tr>\n",
              "    <tr>\n",
              "      <th>25248</th>\n",
              "      <td>waffles</td>\n",
              "      <td>97015</td>\n",
              "    </tr>\n",
              "    <tr>\n",
              "      <th>25249</th>\n",
              "      <td>waffles</td>\n",
              "      <td>971843</td>\n",
              "    </tr>\n",
              "  </tbody>\n",
              "</table>\n",
              "<p>25250 rows × 2 columns</p>\n",
              "</div>"
            ],
            "text/plain": [
              "           label     name\n",
              "0      apple_pie  1011328\n",
              "1      apple_pie   101251\n",
              "2      apple_pie  1034399\n",
              "3      apple_pie   103801\n",
              "4      apple_pie  1038694\n",
              "...          ...      ...\n",
              "25245    waffles   942009\n",
              "25246    waffles   954028\n",
              "25247    waffles    96181\n",
              "25248    waffles    97015\n",
              "25249    waffles   971843\n",
              "\n",
              "[25250 rows x 2 columns]"
            ]
          },
          "metadata": {
            "tags": []
          },
          "execution_count": 7
        }
      ]
    },
    {
      "cell_type": "code",
      "metadata": {
        "colab": {
          "base_uri": "https://localhost:8080/",
          "height": 115,
          "referenced_widgets": [
            "ba53e4b07e8e46e29c0edbf3ec081e0e",
            "0832d482ae09430c99e9c85908d6c953",
            "54e5174a0b1a464aa92182beaa2a123f",
            "3a00d3c212604356ac5a132483ed0ad6",
            "16d4bb6c62c34068948e4a72e38d150f",
            "b8c57d6de0474f8e849b50b60ed0c99b",
            "61521e4518c7491bb165b2ec0a621c02",
            "6f4f9e09c8234fbf84b34ea4a37bd724",
            "682d864c59dc433d8586ea4525f5782f",
            "68358caa45174dc4b02c1b5548c3489b",
            "18c833e0c4964db599ba947d0d1e80e6",
            "900d657796714b9083225754e33f34ec",
            "6ac0a0c78ad44d81b1374e88ec79be0d",
            "39cd807aa6ed47c7905d4bb01cd197ea",
            "b2c5dc2ba75344eeb2763553df7eb14f",
            "660b3d74464b4c6986d0437b63f1722e"
          ]
        },
        "id": "W4TCnqPKVlYf",
        "outputId": "ced72ddf-ce35-4e60-f7e6-0ad0722d8033"
      },
      "source": [
        "#Separate Assets into Training and Testing\n",
        "TOTAL_TRAIN = df_train.shape[0]\n",
        "TOTAL_TEST = df_train.shape[0]\n",
        "TOTAL_CLASS = label_df.shape[0]\n",
        "\n",
        "IMG_H = 200\n",
        "IMG_W = 200\n",
        "DATA_SETS = '/content/drive/MyDrive/datasets/food101/food41/images'\n",
        "\n",
        "EPOCHS = 20\n",
        "BATCH_SIZE = 32\n",
        "\n",
        "SEED = 23\n",
        "def make_path(row):\n",
        "  return f'{DATA_SETS}/{row[\"label\"]}/{row[\"name\"]}.jpg'\n",
        "\n",
        "df_train.loc[:,'path'] = df_train.progress_apply(make_path, axis =1)\n",
        "df_test.loc[:,'path'] = df_test.progress_apply(make_path,axis=1)"
      ],
      "execution_count": 8,
      "outputs": [
        {
          "output_type": "display_data",
          "data": {
            "application/vnd.jupyter.widget-view+json": {
              "model_id": "ba53e4b07e8e46e29c0edbf3ec081e0e",
              "version_minor": 0,
              "version_major": 2
            },
            "text/plain": [
              "HBox(children=(FloatProgress(value=0.0, description='progress: ', max=75750.0, style=ProgressStyle(description…"
            ]
          },
          "metadata": {
            "tags": []
          }
        },
        {
          "output_type": "stream",
          "text": [
            "\n"
          ],
          "name": "stdout"
        },
        {
          "output_type": "display_data",
          "data": {
            "application/vnd.jupyter.widget-view+json": {
              "model_id": "682d864c59dc433d8586ea4525f5782f",
              "version_minor": 0,
              "version_major": 2
            },
            "text/plain": [
              "HBox(children=(FloatProgress(value=0.0, description='progress: ', max=25250.0, style=ProgressStyle(description…"
            ]
          },
          "metadata": {
            "tags": []
          }
        },
        {
          "output_type": "stream",
          "text": [
            "\n"
          ],
          "name": "stdout"
        }
      ]
    },
    {
      "cell_type": "code",
      "metadata": {
        "id": "eV8uOcOQyFq9"
      },
      "source": [
        "label_mapper = dict(zip(df_train['label'].unique(), np.arange(len(df_train['label'].unique()))))\n",
        "df_train['label_index'] = df_train['label'].map(label_mapper)\n",
        "df_test['label_index'] = df_train['label'].map(label_mapper)"
      ],
      "execution_count": 9,
      "outputs": []
    },
    {
      "cell_type": "code",
      "metadata": {
        "colab": {
          "base_uri": "https://localhost:8080/",
          "height": 35
        },
        "id": "y1Isaz4PyhjZ",
        "outputId": "da9ac788-59b0-4e3c-d10b-7cf79a56bea5"
      },
      "source": [
        "df_test['path'][0]"
      ],
      "execution_count": 10,
      "outputs": [
        {
          "output_type": "execute_result",
          "data": {
            "application/vnd.google.colaboratory.intrinsic+json": {
              "type": "string"
            },
            "text/plain": [
              "'/content/drive/MyDrive/datasets/food101/food41/images/apple_pie/1011328.jpg'"
            ]
          },
          "metadata": {
            "tags": []
          },
          "execution_count": 10
        }
      ]
    },
    {
      "cell_type": "code",
      "metadata": {
        "colab": {
          "base_uri": "https://localhost:8080/",
          "height": 265
        },
        "id": "Jj6lRgbxVqte",
        "outputId": "7791478d-aaf7-4793-d81f-bc46fd59d95a"
      },
      "source": [
        "#Show the Image\n",
        "\n",
        "%matplotlib inline\n",
        "\n",
        "import matplotlib.pyplot as plt\n",
        "import matplotlib.image as mpimg\n",
        "\n",
        "pic_index = 2\n",
        "\n",
        "img = mpimg.imread(df_test['path'][0])\n",
        "plt.imshow(img)\n",
        "plt.axis('Off')\n",
        "plt.show\n"
      ],
      "execution_count": 11,
      "outputs": [
        {
          "output_type": "execute_result",
          "data": {
            "text/plain": [
              "<function matplotlib.pyplot.show>"
            ]
          },
          "metadata": {
            "tags": []
          },
          "execution_count": 11
        },
        {
          "output_type": "display_data",
          "data": {
            "image/png": "[encoded data removed]",
            "text/plain": [
              "<Figure size 432x288 with 1 Axes>"
            ]
          },
          "metadata": {
            "tags": [],
            "needs_background": "light"
          }
        }
      ]
    },
    {
      "cell_type": "code",
      "metadata": {
        "colab": {
          "base_uri": "https://localhost:8080/"
        },
        "id": "5kKk4JxZVsHi",
        "outputId": "2c572ff8-ad02-4f98-8d0d-3fa86dd8e729"
      },
      "source": [
        "#Make a Model\n",
        "\n",
        "training_datagen = ImageDataGenerator(\n",
        "      rescale = 1./255,\n",
        "\t    rotation_range=40,\n",
        "      width_shift_range=0.2,\n",
        "      height_shift_range=0.2,\n",
        "      shear_range=0.2,\n",
        "      zoom_range=0.2,\n",
        "      horizontal_flip=True,\n",
        "      fill_mode='nearest'\n",
        ")\n",
        "\n",
        "test_datagen = ImageDataGenerator(rescale=1./255)\n",
        "\n",
        "train_generator = training_datagen.flow_from_dataframe(\n",
        "    dataframe = df_train,\n",
        "    directory = None,\n",
        "    x_col=\"path\",\n",
        "    y_col=\"label\",\n",
        "    target_size=(150,150),\n",
        "    batch_size=BATCH_SIZE,\n",
        "    shuffle=True,\n",
        "    class_mode=\"categorical\"\n",
        ")\n",
        "\n",
        "test_generator = test_datagen.flow_from_dataframe(\n",
        "    dataframe = df_test,\n",
        "    directory = None,\n",
        "    x_col=\"path\",\n",
        "    y_col=\"label\",\n",
        "    target_size=(150,150),\n",
        "    batch_size=BATCH_SIZE,\n",
        "    shuffle=True,\n",
        "    class_mode=\"categorical\"\n",
        ")"
      ],
      "execution_count": 18,
      "outputs": [
        {
          "output_type": "stream",
          "text": [
            "Found 75750 validated image filenames belonging to 101 classes.\n",
            "Found 25250 validated image filenames belonging to 101 classes.\n"
          ],
          "name": "stdout"
        }
      ]
    },
    {
      "cell_type": "code",
      "metadata": {
        "colab": {
          "base_uri": "https://localhost:8080/"
        },
        "id": "B6K1OtY6Vvjs",
        "outputId": "667bcd30-59a1-4c35-9ae3-64c6491a573f"
      },
      "source": [
        "#Learn a Model\n",
        "model = tf.keras.models.Sequential([\n",
        "  tf.keras.layers.Conv2D(64,(3,3),activation='relu',input_shape=(150,150,3)),\n",
        "  tf.keras.layers.MaxPooling2D(2,2),\n",
        "\n",
        "  tf.keras.layers.Conv2D(64,(3,3),activation='relu'),\n",
        "  tf.keras.layers.MaxPooling2D(2,2),\n",
        "\n",
        "  tf.keras.layers.Conv2D(128, (3,3), activation='relu'),\n",
        "  tf.keras.layers.MaxPooling2D(2,2),\n",
        "  \n",
        "  tf.keras.layers.Conv2D(128, (3,3), activation='relu'),\n",
        "  tf.keras.layers.MaxPooling2D(2,2),\n",
        "\n",
        "  tf.keras.layers.Conv2D(256, (3,3), activation='relu'),\n",
        "  tf.keras.layers.MaxPooling2D(2,2),\n",
        "\n",
        "\n",
        "  tf.keras.layers.Flatten(),\n",
        "  tf.keras.layers.Dropout(0.5),\n",
        "  tf.keras.layers.Dense(256,activation='relu'),\n",
        "  tf.keras.layers.Dense(101,activation='softmax')\n",
        "])\n",
        "\n",
        "model.summary()"
      ],
      "execution_count": 20,
      "outputs": [
        {
          "output_type": "stream",
          "text": [
            "Model: \"sequential_3\"\n",
            "_________________________________________________________________\n",
            "Layer (type)                 Output Shape              Param #   \n",
            "=================================================================\n",
            "conv2d_17 (Conv2D)           (None, 148, 148, 64)      1792      \n",
            "_________________________________________________________________\n",
            "max_pooling2d_17 (MaxPooling (None, 74, 74, 64)        0         \n",
            "_________________________________________________________________\n",
            "conv2d_18 (Conv2D)           (None, 72, 72, 64)        36928     \n",
            "_________________________________________________________________\n",
            "max_pooling2d_18 (MaxPooling (None, 36, 36, 64)        0         \n",
            "_________________________________________________________________\n",
            "conv2d_19 (Conv2D)           (None, 34, 34, 128)       73856     \n",
            "_________________________________________________________________\n",
            "max_pooling2d_19 (MaxPooling (None, 17, 17, 128)       0         \n",
            "_________________________________________________________________\n",
            "conv2d_20 (Conv2D)           (None, 15, 15, 128)       147584    \n",
            "_________________________________________________________________\n",
            "max_pooling2d_20 (MaxPooling (None, 7, 7, 128)         0         \n",
            "_________________________________________________________________\n",
            "conv2d_21 (Conv2D)           (None, 5, 5, 256)         295168    \n",
            "_________________________________________________________________\n",
            "max_pooling2d_21 (MaxPooling (None, 2, 2, 256)         0         \n",
            "_________________________________________________________________\n",
            "flatten_3 (Flatten)          (None, 1024)              0         \n",
            "_________________________________________________________________\n",
            "dropout_3 (Dropout)          (None, 1024)              0         \n",
            "_________________________________________________________________\n",
            "dense_6 (Dense)              (None, 256)               262400    \n",
            "_________________________________________________________________\n",
            "dense_7 (Dense)              (None, 101)               25957     \n",
            "=================================================================\n",
            "Total params: 843,685\n",
            "Trainable params: 843,685\n",
            "Non-trainable params: 0\n",
            "_________________________________________________________________\n"
          ],
          "name": "stdout"
        }
      ]
    },
    {
      "cell_type": "code",
      "metadata": {
        "colab": {
          "base_uri": "https://localhost:8080/"
        },
        "id": "pBEhadDxVxXt",
        "outputId": "db292568-767f-46c9-aa10-4226848336d1"
      },
      "source": [
        "#Testing\n",
        "model.compile(loss='categorical_crossentropy',optimizer='rmsprop',metrics=['accuracy'])\n",
        "# history = model.fit(train_generator, epochs=EPOCHS, steps_per_epoch=10,validation_data=test_generator,verbose=1,validation_steps=3)\n",
        "history = model.fit(train_generator, epochs=50, steps_per_epoch=50,validation_data=test_generator,verbose=1,validation_steps=5)\n",
        "\n"
      ],
      "execution_count": 21,
      "outputs": [
        {
          "output_type": "stream",
          "text": [
            "Epoch 1/50\n",
            "50/50 [==============================] - 423s 8s/step - loss: 4.6245 - accuracy: 0.0125 - val_loss: 4.6158 - val_accuracy: 0.0125\n",
            "Epoch 2/50\n",
            "50/50 [==============================] - 412s 8s/step - loss: 4.6153 - accuracy: 0.0128 - val_loss: 4.6194 - val_accuracy: 0.0188\n",
            "Epoch 3/50\n",
            "50/50 [==============================] - 407s 8s/step - loss: 4.6157 - accuracy: 0.0105 - val_loss: 4.6098 - val_accuracy: 0.0125\n",
            "Epoch 4/50\n",
            "50/50 [==============================] - 401s 8s/step - loss: 4.6126 - accuracy: 0.0104 - val_loss: 4.6098 - val_accuracy: 0.0063\n",
            "Epoch 5/50\n",
            "50/50 [==============================] - 399s 8s/step - loss: 4.6077 - accuracy: 0.0127 - val_loss: 4.5995 - val_accuracy: 0.0125\n",
            "Epoch 6/50\n",
            "50/50 [==============================] - 394s 8s/step - loss: 4.6073 - accuracy: 0.0094 - val_loss: 4.6208 - val_accuracy: 0.0125\n",
            "Epoch 7/50\n",
            "50/50 [==============================] - 382s 8s/step - loss: 4.5998 - accuracy: 0.0161 - val_loss: 4.6174 - val_accuracy: 0.0000e+00\n",
            "Epoch 8/50\n",
            "50/50 [==============================] - 374s 7s/step - loss: 4.6032 - accuracy: 0.0163 - val_loss: 4.4915 - val_accuracy: 0.0188\n",
            "Epoch 9/50\n",
            "50/50 [==============================] - 370s 7s/step - loss: 4.6019 - accuracy: 0.0090 - val_loss: 4.5602 - val_accuracy: 0.0375\n",
            "Epoch 10/50\n",
            "50/50 [==============================] - 386s 8s/step - loss: 4.5612 - accuracy: 0.0162 - val_loss: 4.5641 - val_accuracy: 0.0250\n",
            "Epoch 11/50\n",
            "50/50 [==============================] - 380s 8s/step - loss: 4.5631 - accuracy: 0.0143 - val_loss: 4.6403 - val_accuracy: 0.0125\n",
            "Epoch 12/50\n",
            "50/50 [==============================] - 367s 7s/step - loss: 4.5659 - accuracy: 0.0276 - val_loss: 4.4768 - val_accuracy: 0.0437\n",
            "Epoch 13/50\n",
            "50/50 [==============================] - 365s 7s/step - loss: 4.5266 - accuracy: 0.0201 - val_loss: 4.4912 - val_accuracy: 0.0312\n",
            "Epoch 14/50\n",
            "50/50 [==============================] - 361s 7s/step - loss: 4.5283 - accuracy: 0.0262 - val_loss: 4.4178 - val_accuracy: 0.0437\n",
            "Epoch 15/50\n",
            "50/50 [==============================] - 361s 7s/step - loss: 4.5328 - accuracy: 0.0240 - val_loss: 4.5376 - val_accuracy: 0.0250\n",
            "Epoch 16/50\n",
            "50/50 [==============================] - 356s 7s/step - loss: 4.5350 - accuracy: 0.0231 - val_loss: 4.5672 - val_accuracy: 0.0250\n",
            "Epoch 17/50\n",
            "50/50 [==============================] - 353s 7s/step - loss: 4.5195 - accuracy: 0.0262 - val_loss: 4.3680 - val_accuracy: 0.0312\n",
            "Epoch 18/50\n",
            "50/50 [==============================] - 333s 7s/step - loss: 4.5210 - accuracy: 0.0172 - val_loss: 4.4787 - val_accuracy: 0.0375\n",
            "Epoch 19/50\n",
            "50/50 [==============================] - 333s 7s/step - loss: 4.4744 - accuracy: 0.0334 - val_loss: 4.4019 - val_accuracy: 0.0125\n",
            "Epoch 20/50\n",
            "50/50 [==============================] - 335s 7s/step - loss: 4.4438 - accuracy: 0.0408 - val_loss: 4.4154 - val_accuracy: 0.0562\n",
            "Epoch 21/50\n",
            "50/50 [==============================] - 328s 7s/step - loss: 4.4621 - accuracy: 0.0398 - val_loss: 4.3678 - val_accuracy: 0.0500\n",
            "Epoch 22/50\n",
            "50/50 [==============================] - 317s 6s/step - loss: 4.4745 - accuracy: 0.0343 - val_loss: 4.3908 - val_accuracy: 0.0375\n",
            "Epoch 23/50\n",
            "50/50 [==============================] - 318s 6s/step - loss: 4.4473 - accuracy: 0.0279 - val_loss: 4.4044 - val_accuracy: 0.0437\n",
            "Epoch 24/50\n",
            "50/50 [==============================] - 309s 6s/step - loss: 4.4483 - accuracy: 0.0367 - val_loss: 4.4150 - val_accuracy: 0.0375\n",
            "Epoch 25/50\n",
            "50/50 [==============================] - 321s 6s/step - loss: 4.4123 - accuracy: 0.0323 - val_loss: 4.3649 - val_accuracy: 0.0562\n",
            "Epoch 26/50\n",
            "50/50 [==============================] - 306s 6s/step - loss: 4.4300 - accuracy: 0.0451 - val_loss: 4.2780 - val_accuracy: 0.0375\n",
            "Epoch 27/50\n",
            "50/50 [==============================] - 305s 6s/step - loss: 4.3842 - accuracy: 0.0301 - val_loss: 4.3122 - val_accuracy: 0.1125\n",
            "Epoch 28/50\n",
            "50/50 [==============================] - 288s 6s/step - loss: 4.3897 - accuracy: 0.0421 - val_loss: 4.1960 - val_accuracy: 0.0750\n",
            "Epoch 29/50\n",
            "50/50 [==============================] - 291s 6s/step - loss: 4.3891 - accuracy: 0.0354 - val_loss: 4.2113 - val_accuracy: 0.0625\n",
            "Epoch 30/50\n",
            "50/50 [==============================] - 287s 6s/step - loss: 4.3983 - accuracy: 0.0446 - val_loss: 4.2002 - val_accuracy: 0.0750\n",
            "Epoch 31/50\n",
            "50/50 [==============================] - 276s 5s/step - loss: 4.3647 - accuracy: 0.0351 - val_loss: 4.3080 - val_accuracy: 0.0437\n",
            "Epoch 32/50\n",
            "50/50 [==============================] - 293s 6s/step - loss: 4.3950 - accuracy: 0.0435 - val_loss: 4.2139 - val_accuracy: 0.0688\n",
            "Epoch 33/50\n",
            "50/50 [==============================] - 288s 6s/step - loss: 4.3431 - accuracy: 0.0445 - val_loss: 4.2426 - val_accuracy: 0.0437\n",
            "Epoch 34/50\n",
            "50/50 [==============================] - 276s 6s/step - loss: 4.2948 - accuracy: 0.0509 - val_loss: 4.2267 - val_accuracy: 0.0750\n",
            "Epoch 35/50\n",
            "50/50 [==============================] - 276s 6s/step - loss: 4.3407 - accuracy: 0.0493 - val_loss: 4.3266 - val_accuracy: 0.0437\n",
            "Epoch 36/50\n",
            "50/50 [==============================] - 267s 5s/step - loss: 4.2913 - accuracy: 0.0588 - val_loss: 4.3467 - val_accuracy: 0.0250\n",
            "Epoch 37/50\n",
            "50/50 [==============================] - 268s 5s/step - loss: 4.3237 - accuracy: 0.0517 - val_loss: 4.2174 - val_accuracy: 0.0625\n",
            "Epoch 38/50\n",
            "50/50 [==============================] - 272s 5s/step - loss: 4.2864 - accuracy: 0.0596 - val_loss: 4.3310 - val_accuracy: 0.0750\n",
            "Epoch 39/50\n",
            "50/50 [==============================] - 256s 5s/step - loss: 4.2761 - accuracy: 0.0428 - val_loss: 4.1084 - val_accuracy: 0.0500\n",
            "Epoch 40/50\n",
            "50/50 [==============================] - 250s 5s/step - loss: 4.2901 - accuracy: 0.0600 - val_loss: 4.2011 - val_accuracy: 0.0812\n",
            "Epoch 41/50\n",
            "50/50 [==============================] - 244s 5s/step - loss: 4.2896 - accuracy: 0.0417 - val_loss: 4.3027 - val_accuracy: 0.0437\n",
            "Epoch 42/50\n",
            "50/50 [==============================] - 241s 5s/step - loss: 4.2623 - accuracy: 0.0429 - val_loss: 4.0515 - val_accuracy: 0.0500\n",
            "Epoch 43/50\n",
            "50/50 [==============================] - 240s 5s/step - loss: 4.2679 - accuracy: 0.0449 - val_loss: 4.1887 - val_accuracy: 0.1000\n",
            "Epoch 44/50\n",
            "50/50 [==============================] - 245s 5s/step - loss: 4.2112 - accuracy: 0.0498 - val_loss: 4.1411 - val_accuracy: 0.0812\n",
            "Epoch 45/50\n",
            "50/50 [==============================] - 226s 4s/step - loss: 4.2325 - accuracy: 0.0509 - val_loss: 4.0631 - val_accuracy: 0.0625\n",
            "Epoch 46/50\n",
            "50/50 [==============================] - 250s 5s/step - loss: 4.1876 - accuracy: 0.0658 - val_loss: 4.0401 - val_accuracy: 0.0750\n",
            "Epoch 47/50\n",
            "50/50 [==============================] - 230s 5s/step - loss: 4.2203 - accuracy: 0.0695 - val_loss: 4.0211 - val_accuracy: 0.0688\n",
            "Epoch 48/50\n",
            "50/50 [==============================] - 228s 5s/step - loss: 4.1816 - accuracy: 0.0636 - val_loss: 4.0375 - val_accuracy: 0.0812\n",
            "Epoch 49/50\n",
            "50/50 [==============================] - 228s 5s/step - loss: 4.1878 - accuracy: 0.0696 - val_loss: 4.0758 - val_accuracy: 0.0562\n",
            "Epoch 50/50\n",
            "50/50 [==============================] - 209s 4s/step - loss: 4.2198 - accuracy: 0.0551 - val_loss: 4.1164 - val_accuracy: 0.1000\n"
          ],
          "name": "stdout"
        }
      ]
    },
    {
      "cell_type": "code",
      "metadata": {
        "colab": {
          "base_uri": "https://localhost:8080/",
          "height": 298
        },
        "id": "dH9Wl8PPah3i",
        "outputId": "d04d9b16-a324-41f9-9377-50fa83b07997"
      },
      "source": [
        "import matplotlib.pyplot as plt\n",
        "acc = history.history['accuracy']\n",
        "val_acc = history.history['val_accuracy']\n",
        "loss = history.history['loss']\n",
        "val_loss = history.history['val_loss']\n",
        "\n",
        "epochs = range(len(acc))\n",
        "\n",
        "plt.plot(epochs, acc, 'r', label='Training accuracy')\n",
        "plt.plot(epochs, val_acc, 'b', label='Validation accuracy')\n",
        "plt.title('Training and validation accuracy')\n",
        "plt.legend(loc=0)\n",
        "plt.figure()\n",
        "\n",
        "\n",
        "plt.show()"
      ],
      "execution_count": 22,
      "outputs": [
        {
          "output_type": "display_data",
          "data": {
            "image/png": "[encoded data removed]",
            "text/plain": [
              "<Figure size 432x288 with 1 Axes>"
            ]
          },
          "metadata": {
            "tags": [],
            "needs_background": "light"
          }
        },
        {
          "output_type": "display_data",
          "data": {
            "text/plain": [
              "<Figure size 432x288 with 0 Axes>"
            ]
          },
          "metadata": {
            "tags": []
          }
        }
      ]
    },
    {
      "cell_type": "code",
      "metadata": {
        "colab": {
          "base_uri": "https://localhost:8080/"
        },
        "id": "fhvdqLERVys7",
        "outputId": "9c32764e-9fa5-4f3d-946d-ad4bf380520a"
      },
      "source": [
        "m#odel.save('model_1')"
      ],
      "execution_count": 23,
      "outputs": [
        {
          "output_type": "stream",
          "text": [
            "INFO:tensorflow:Assets written to: model_1/assets\n"
          ],
          "name": "stdout"
        }
      ]
    },
    {
      "cell_type": "code",
      "metadata": {
        "id": "x4a5mug1WGW7"
      },
      "source": [
        ""
      ],
      "execution_count": null,
      "outputs": []
    }
  ]
}