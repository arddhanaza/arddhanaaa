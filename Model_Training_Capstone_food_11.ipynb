{
  "nbformat": 4,
  "nbformat_minor": 0,
  "metadata": {
    "colab": {
      "name": "Model Training Capstone_food_11.ipynb",
      "provenance": [],
      "collapsed_sections": [],
      "include_colab_link": true
    },
    "kernelspec": {
      "name": "python3",
      "display_name": "Python 3"
    },
    "language_info": {
      "name": "python"
    },
    "accelerator": "GPU",
    "widgets": {
      "application/vnd.jupyter.widget-state+json": {
        "f4f6db9b3da3449e9015c6a292d2984b": {
          "model_module": "@jupyter-widgets/controls",
          "model_name": "HBoxModel",
          "state": {
            "_view_name": "HBoxView",
            "_dom_classes": [],
            "_model_name": "HBoxModel",
            "_view_module": "@jupyter-widgets/controls",
            "_model_module_version": "1.5.0",
            "_view_count": null,
            "_view_module_version": "1.5.0",
            "box_style": "",
            "layout": "IPY_MODEL_4c2832a74f724580bff93f4eed08c8cf",
            "_model_module": "@jupyter-widgets/controls",
            "children": [
              "IPY_MODEL_87820599f4ac44769af52542a8ff3bcb",
              "IPY_MODEL_e555c6d5607c467792977c833bf3f940"
            ]
          }
        },
        "4c2832a74f724580bff93f4eed08c8cf": {
          "model_module": "@jupyter-widgets/base",
          "model_name": "LayoutModel",
          "state": {
            "_view_name": "LayoutView",
            "grid_template_rows": null,
            "right": null,
            "justify_content": null,
            "_view_module": "@jupyter-widgets/base",
            "overflow": null,
            "_model_module_version": "1.2.0",
            "_view_count": null,
            "flex_flow": null,
            "width": null,
            "min_width": null,
            "border": null,
            "align_items": null,
            "bottom": null,
            "_model_module": "@jupyter-widgets/base",
            "top": null,
            "grid_column": null,
            "overflow_y": null,
            "overflow_x": null,
            "grid_auto_flow": null,
            "grid_area": null,
            "grid_template_columns": null,
            "flex": null,
            "_model_name": "LayoutModel",
            "justify_items": null,
            "grid_row": null,
            "max_height": null,
            "align_content": null,
            "visibility": null,
            "align_self": null,
            "height": null,
            "min_height": null,
            "padding": null,
            "grid_auto_rows": null,
            "grid_gap": null,
            "max_width": null,
            "order": null,
            "_view_module_version": "1.2.0",
            "grid_template_areas": null,
            "object_position": null,
            "object_fit": null,
            "grid_auto_columns": null,
            "margin": null,
            "display": null,
            "left": null
          }
        },
        "87820599f4ac44769af52542a8ff3bcb": {
          "model_module": "@jupyter-widgets/controls",
          "model_name": "FloatProgressModel",
          "state": {
            "_view_name": "ProgressView",
            "style": "IPY_MODEL_c0dc6745e2b54343b5aff02b6cb008d4",
            "_dom_classes": [],
            "description": "progress: 100%",
            "_model_name": "FloatProgressModel",
            "bar_style": "success",
            "max": 75750,
            "_view_module": "@jupyter-widgets/controls",
            "_model_module_version": "1.5.0",
            "value": 75750,
            "_view_count": null,
            "_view_module_version": "1.5.0",
            "orientation": "horizontal",
            "min": 0,
            "description_tooltip": null,
            "_model_module": "@jupyter-widgets/controls",
            "layout": "IPY_MODEL_94bb50153b54497bb355bc2bdf7fa594"
          }
        },
        "e555c6d5607c467792977c833bf3f940": {
          "model_module": "@jupyter-widgets/controls",
          "model_name": "HTMLModel",
          "state": {
            "_view_name": "HTMLView",
            "style": "IPY_MODEL_3bef713f00964916b4ccb3e1a3267825",
            "_dom_classes": [],
            "description": "",
            "_model_name": "HTMLModel",
            "placeholder": "​",
            "_view_module": "@jupyter-widgets/controls",
            "_model_module_version": "1.5.0",
            "value": " 75750/75750 [00:01&lt;00:00, 46578.71it/s]",
            "_view_count": null,
            "_view_module_version": "1.5.0",
            "description_tooltip": null,
            "_model_module": "@jupyter-widgets/controls",
            "layout": "IPY_MODEL_bb768fd9c73140e08dee74fe47813026"
          }
        },
        "c0dc6745e2b54343b5aff02b6cb008d4": {
          "model_module": "@jupyter-widgets/controls",
          "model_name": "ProgressStyleModel",
          "state": {
            "_view_name": "StyleView",
            "_model_name": "ProgressStyleModel",
            "description_width": "initial",
            "_view_module": "@jupyter-widgets/base",
            "_model_module_version": "1.5.0",
            "_view_count": null,
            "_view_module_version": "1.2.0",
            "bar_color": null,
            "_model_module": "@jupyter-widgets/controls"
          }
        },
        "94bb50153b54497bb355bc2bdf7fa594": {
          "model_module": "@jupyter-widgets/base",
          "model_name": "LayoutModel",
          "state": {
            "_view_name": "LayoutView",
            "grid_template_rows": null,
            "right": null,
            "justify_content": null,
            "_view_module": "@jupyter-widgets/base",
            "overflow": null,
            "_model_module_version": "1.2.0",
            "_view_count": null,
            "flex_flow": null,
            "width": null,
            "min_width": null,
            "border": null,
            "align_items": null,
            "bottom": null,
            "_model_module": "@jupyter-widgets/base",
            "top": null,
            "grid_column": null,
            "overflow_y": null,
            "overflow_x": null,
            "grid_auto_flow": null,
            "grid_area": null,
            "grid_template_columns": null,
            "flex": null,
            "_model_name": "LayoutModel",
            "justify_items": null,
            "grid_row": null,
            "max_height": null,
            "align_content": null,
            "visibility": null,
            "align_self": null,
            "height": null,
            "min_height": null,
            "padding": null,
            "grid_auto_rows": null,
            "grid_gap": null,
            "max_width": null,
            "order": null,
            "_view_module_version": "1.2.0",
            "grid_template_areas": null,
            "object_position": null,
            "object_fit": null,
            "grid_auto_columns": null,
            "margin": null,
            "display": null,
            "left": null
          }
        },
        "3bef713f00964916b4ccb3e1a3267825": {
          "model_module": "@jupyter-widgets/controls",
          "model_name": "DescriptionStyleModel",
          "state": {
            "_view_name": "StyleView",
            "_model_name": "DescriptionStyleModel",
            "description_width": "",
            "_view_module": "@jupyter-widgets/base",
            "_model_module_version": "1.5.0",
            "_view_count": null,
            "_view_module_version": "1.2.0",
            "_model_module": "@jupyter-widgets/controls"
          }
        },
        "bb768fd9c73140e08dee74fe47813026": {
          "model_module": "@jupyter-widgets/base",
          "model_name": "LayoutModel",
          "state": {
            "_view_name": "LayoutView",
            "grid_template_rows": null,
            "right": null,
            "justify_content": null,
            "_view_module": "@jupyter-widgets/base",
            "overflow": null,
            "_model_module_version": "1.2.0",
            "_view_count": null,
            "flex_flow": null,
            "width": null,
            "min_width": null,
            "border": null,
            "align_items": null,
            "bottom": null,
            "_model_module": "@jupyter-widgets/base",
            "top": null,
            "grid_column": null,
            "overflow_y": null,
            "overflow_x": null,
            "grid_auto_flow": null,
            "grid_area": null,
            "grid_template_columns": null,
            "flex": null,
            "_model_name": "LayoutModel",
            "justify_items": null,
            "grid_row": null,
            "max_height": null,
            "align_content": null,
            "visibility": null,
            "align_self": null,
            "height": null,
            "min_height": null,
            "padding": null,
            "grid_auto_rows": null,
            "grid_gap": null,
            "max_width": null,
            "order": null,
            "_view_module_version": "1.2.0",
            "grid_template_areas": null,
            "object_position": null,
            "object_fit": null,
            "grid_auto_columns": null,
            "margin": null,
            "display": null,
            "left": null
          }
        },
        "74cac1041fb5471fa65fe6bbfef81c55": {
          "model_module": "@jupyter-widgets/controls",
          "model_name": "HBoxModel",
          "state": {
            "_view_name": "HBoxView",
            "_dom_classes": [],
            "_model_name": "HBoxModel",
            "_view_module": "@jupyter-widgets/controls",
            "_model_module_version": "1.5.0",
            "_view_count": null,
            "_view_module_version": "1.5.0",
            "box_style": "",
            "layout": "IPY_MODEL_fc6fcdfa260944878d13e7485a5ca8b3",
            "_model_module": "@jupyter-widgets/controls",
            "children": [
              "IPY_MODEL_530b48742f004eefa5aef81b2fd41d5a",
              "IPY_MODEL_a87a7693d6494b32bedc9f80d55a5467"
            ]
          }
        },
        "fc6fcdfa260944878d13e7485a5ca8b3": {
          "model_module": "@jupyter-widgets/base",
          "model_name": "LayoutModel",
          "state": {
            "_view_name": "LayoutView",
            "grid_template_rows": null,
            "right": null,
            "justify_content": null,
            "_view_module": "@jupyter-widgets/base",
            "overflow": null,
            "_model_module_version": "1.2.0",
            "_view_count": null,
            "flex_flow": null,
            "width": null,
            "min_width": null,
            "border": null,
            "align_items": null,
            "bottom": null,
            "_model_module": "@jupyter-widgets/base",
            "top": null,
            "grid_column": null,
            "overflow_y": null,
            "overflow_x": null,
            "grid_auto_flow": null,
            "grid_area": null,
            "grid_template_columns": null,
            "flex": null,
            "_model_name": "LayoutModel",
            "justify_items": null,
            "grid_row": null,
            "max_height": null,
            "align_content": null,
            "visibility": null,
            "align_self": null,
            "height": null,
            "min_height": null,
            "padding": null,
            "grid_auto_rows": null,
            "grid_gap": null,
            "max_width": null,
            "order": null,
            "_view_module_version": "1.2.0",
            "grid_template_areas": null,
            "object_position": null,
            "object_fit": null,
            "grid_auto_columns": null,
            "margin": null,
            "display": null,
            "left": null
          }
        },
        "530b48742f004eefa5aef81b2fd41d5a": {
          "model_module": "@jupyter-widgets/controls",
          "model_name": "FloatProgressModel",
          "state": {
            "_view_name": "ProgressView",
            "style": "IPY_MODEL_26e529f5d3814d38a7534b68fa4b728a",
            "_dom_classes": [],
            "description": "progress: 100%",
            "_model_name": "FloatProgressModel",
            "bar_style": "success",
            "max": 25250,
            "_view_module": "@jupyter-widgets/controls",
            "_model_module_version": "1.5.0",
            "value": 25250,
            "_view_count": null,
            "_view_module_version": "1.5.0",
            "orientation": "horizontal",
            "min": 0,
            "description_tooltip": null,
            "_model_module": "@jupyter-widgets/controls",
            "layout": "IPY_MODEL_c194505d3391497bbd5a5fd4dc27535e"
          }
        },
        "a87a7693d6494b32bedc9f80d55a5467": {
          "model_module": "@jupyter-widgets/controls",
          "model_name": "HTMLModel",
          "state": {
            "_view_name": "HTMLView",
            "style": "IPY_MODEL_b27f627ca54f431bb72f2eb6d3190e58",
            "_dom_classes": [],
            "description": "",
            "_model_name": "HTMLModel",
            "placeholder": "​",
            "_view_module": "@jupyter-widgets/controls",
            "_model_module_version": "1.5.0",
            "value": " 25250/25250 [21:32&lt;00:00, 19.53it/s]",
            "_view_count": null,
            "_view_module_version": "1.5.0",
            "description_tooltip": null,
            "_model_module": "@jupyter-widgets/controls",
            "layout": "IPY_MODEL_f02322153f7f44898a9bf26882f7cc85"
          }
        },
        "26e529f5d3814d38a7534b68fa4b728a": {
          "model_module": "@jupyter-widgets/controls",
          "model_name": "ProgressStyleModel",
          "state": {
            "_view_name": "StyleView",
            "_model_name": "ProgressStyleModel",
            "description_width": "initial",
            "_view_module": "@jupyter-widgets/base",
            "_model_module_version": "1.5.0",
            "_view_count": null,
            "_view_module_version": "1.2.0",
            "bar_color": null,
            "_model_module": "@jupyter-widgets/controls"
          }
        },
        "c194505d3391497bbd5a5fd4dc27535e": {
          "model_module": "@jupyter-widgets/base",
          "model_name": "LayoutModel",
          "state": {
            "_view_name": "LayoutView",
            "grid_template_rows": null,
            "right": null,
            "justify_content": null,
            "_view_module": "@jupyter-widgets/base",
            "overflow": null,
            "_model_module_version": "1.2.0",
            "_view_count": null,
            "flex_flow": null,
            "width": null,
            "min_width": null,
            "border": null,
            "align_items": null,
            "bottom": null,
            "_model_module": "@jupyter-widgets/base",
            "top": null,
            "grid_column": null,
            "overflow_y": null,
            "overflow_x": null,
            "grid_auto_flow": null,
            "grid_area": null,
            "grid_template_columns": null,
            "flex": null,
            "_model_name": "LayoutModel",
            "justify_items": null,
            "grid_row": null,
            "max_height": null,
            "align_content": null,
            "visibility": null,
            "align_self": null,
            "height": null,
            "min_height": null,
            "padding": null,
            "grid_auto_rows": null,
            "grid_gap": null,
            "max_width": null,
            "order": null,
            "_view_module_version": "1.2.0",
            "grid_template_areas": null,
            "object_position": null,
            "object_fit": null,
            "grid_auto_columns": null,
            "margin": null,
            "display": null,
            "left": null
          }
        },
        "b27f627ca54f431bb72f2eb6d3190e58": {
          "model_module": "@jupyter-widgets/controls",
          "model_name": "DescriptionStyleModel",
          "state": {
            "_view_name": "StyleView",
            "_model_name": "DescriptionStyleModel",
            "description_width": "",
            "_view_module": "@jupyter-widgets/base",
            "_model_module_version": "1.5.0",
            "_view_count": null,
            "_view_module_version": "1.2.0",
            "_model_module": "@jupyter-widgets/controls"
          }
        },
        "f02322153f7f44898a9bf26882f7cc85": {
          "model_module": "@jupyter-widgets/base",
          "model_name": "LayoutModel",
          "state": {
            "_view_name": "LayoutView",
            "grid_template_rows": null,
            "right": null,
            "justify_content": null,
            "_view_module": "@jupyter-widgets/base",
            "overflow": null,
            "_model_module_version": "1.2.0",
            "_view_count": null,
            "flex_flow": null,
            "width": null,
            "min_width": null,
            "border": null,
            "align_items": null,
            "bottom": null,
            "_model_module": "@jupyter-widgets/base",
            "top": null,
            "grid_column": null,
            "overflow_y": null,
            "overflow_x": null,
            "grid_auto_flow": null,
            "grid_area": null,
            "grid_template_columns": null,
            "flex": null,
            "_model_name": "LayoutModel",
            "justify_items": null,
            "grid_row": null,
            "max_height": null,
            "align_content": null,
            "visibility": null,
            "align_self": null,
            "height": null,
            "min_height": null,
            "padding": null,
            "grid_auto_rows": null,
            "grid_gap": null,
            "max_width": null,
            "order": null,
            "_view_module_version": "1.2.0",
            "grid_template_areas": null,
            "object_position": null,
            "object_fit": null,
            "grid_auto_columns": null,
            "margin": null,
            "display": null,
            "left": null
          }
        }
      }
    }
  },
  "cells": [
    {
      "cell_type": "markdown",
      "metadata": {
        "id": "view-in-github",
        "colab_type": "text"
      },
      "source": [
        "<a href=\"https://colab.research.google.com/github/arddhanaza/foodprint-bangkit-capstone/blob/machine_learning/Model_Training_Capstone_food_11.ipynb\" target=\"_parent\"><img src=\"https://colab.research.google.com/assets/colab-badge.svg\" alt=\"Open In Colab\"/></a>"
      ]
    },
    {
      "cell_type": "code",
      "metadata": {
        "id": "1a3NR8nYXiRg"
      },
      "source": [
        "root_path = '/drive/MyDrive/datasets'\n",
        "DIR_DATA = '/content/drive/MyDrive/datasets/food_11/food_11/images'\n"
      ],
      "execution_count": 3,
      "outputs": []
    },
    {
      "cell_type": "code",
      "metadata": {
        "colab": {
          "base_uri": "https://localhost:8080/"
        },
        "id": "EH0VWp6Iy9JP",
        "outputId": "1fbc8474-0087-4364-e577-d9164bbf96f9"
      },
      "source": [
        "from google.colab import drive\n",
        "drive.mount('/content/drive')"
      ],
      "execution_count": 1,
      "outputs": [
        {
          "output_type": "stream",
          "text": [
            "Mounted at /content/drive\n"
          ],
          "name": "stdout"
        }
      ]
    },
    {
      "cell_type": "code",
      "metadata": {
        "colab": {
          "base_uri": "https://localhost:8080/"
        },
        "id": "QjItJDwbSXpE",
        "outputId": "467d57de-e927-4350-a063-338d93717b18"
      },
      "source": [
        "import tensorflow as tf\n",
        "print(tf.__version__)\n",
        "import keras_preprocessing\n",
        "from keras_preprocessing import image\n",
        "from keras_preprocessing.image import ImageDataGenerator\n",
        "\n",
        "import matplotlib.pyplot as plt\n",
        "import numpy as np\n",
        "import pandas as pd\n",
        "from tqdm.notebook import tqdm as note_book_tqdm\n",
        "\n",
        "note_book_tqdm.pandas(desc='progress: ')"
      ],
      "execution_count": 4,
      "outputs": [
        {
          "output_type": "stream",
          "text": [
            "2.4.1\n"
          ],
          "name": "stdout"
        },
        {
          "output_type": "stream",
          "text": [
            "/usr/local/lib/python3.7/dist-packages/tqdm/std.py:658: FutureWarning: The Panel class is removed from pandas. Accessing it from the top-level namespace will also be removed in the next version\n",
            "  from pandas import Panel\n"
          ],
          "name": "stderr"
        }
      ]
    },
    {
      "cell_type": "code",
      "metadata": {
        "id": "3Q8A-vOGYm_0",
        "colab": {
          "base_uri": "https://localhost:8080/"
        },
        "outputId": "78663315-385d-43fd-834d-d448ca3726bb"
      },
      "source": [
        "!pip install -q kaggle\n",
        "!mkdir -p ~/.kaggle\n",
        "!cp kaggle.json ~/.kaggle/\n",
        "!ls ~/.kaggle\n",
        "!chmod 600 /root/.kaggle/kaggle.json  # set permission"
      ],
      "execution_count": 6,
      "outputs": [
        {
          "output_type": "stream",
          "text": [
            "kaggle.json\n"
          ],
          "name": "stdout"
        }
      ]
    },
    {
      "cell_type": "code",
      "metadata": {
        "id": "WBrIXhz3Sedx",
        "colab": {
          "base_uri": "https://localhost:8080/"
        },
        "outputId": "27c441a4-8e20-400e-e61b-f7ce00e9f105"
      },
      "source": [
        "#Downloading the Assets \n",
        "!kaggle datasets download  trolukovich/food11-image-dataset -p /content/drive/MyDrive/datasets/food_11/\n",
        "# !kaggle datasets list -s food41"
      ],
      "execution_count": 7,
      "outputs": [
        {
          "output_type": "stream",
          "text": [
            "Downloading food11-image-dataset.zip to /content/drive/MyDrive/datasets/food_11\n",
            " 99% 1.08G/1.08G [00:26<00:00, 38.8MB/s]\n",
            "100% 1.08G/1.08G [00:26<00:00, 43.9MB/s]\n"
          ],
          "name": "stdout"
        }
      ]
    },
    {
      "cell_type": "code",
      "metadata": {
        "id": "e4WGrS_3Vb7n"
      },
      "source": [
        "# #Save the assets\n",
        "import os\n",
        "import zipfile\n",
        "zip_target = '/content/drive/MyDrive/datasets/food_11/food11-image-dataset.zip'\n",
        "zip_ref = zipfile.ZipFile(zip_target,'r')\n",
        "zip_ref.extractall('/content/drive/MyDrive/datasets/food_11/food11')\n",
        "zip_ref.close()\n"
      ],
      "execution_count": 9,
      "outputs": []
    },
    {
      "cell_type": "code",
      "metadata": {
        "id": "tFQcWy4aoUOP"
      },
      "source": [
        "import os\n",
        "# !cp -r '/content/gdrive/MyDrive/datasets/food101/food41/images/' '/tmp/images'\n",
        "# !mkdir '/tmp/images/images/test'"
      ],
      "execution_count": null,
      "outputs": []
    },
    {
      "cell_type": "code",
      "metadata": {
        "colab": {
          "base_uri": "https://localhost:8080/",
          "height": 419
        },
        "id": "f00Gr4yufpyh",
        "outputId": "22806ab2-85cb-4a20-a108-fac1b4621f9a"
      },
      "source": [
        "# import pandas as pd\n",
        "\n",
        "# df_train = pd.read_csv('/content/drive/MyDrive/datasets/food101/food41/meta/train.txt', header=None, sep='/', names=['label','name'])\n",
        "# df_test = pd.read_csv('/content/drive/MyDrive/datasets/food101/food41/meta/test.txt', header=None, sep='/', names=['label','name'])\n",
        "# label_df = pd.read_csv('/content/drive/MyDrive/datasets/food101/food41/meta/classes.txt', header=None, sep='/', names=['label'])\n",
        "\n",
        "# df_test"
      ],
      "execution_count": null,
      "outputs": [
        {
          "output_type": "execute_result",
          "data": {
            "text/html": [
              "<div>\n",
              "<style scoped>\n",
              "    .dataframe tbody tr th:only-of-type {\n",
              "        vertical-align: middle;\n",
              "    }\n",
              "\n",
              "    .dataframe tbody tr th {\n",
              "        vertical-align: top;\n",
              "    }\n",
              "\n",
              "    .dataframe thead th {\n",
              "        text-align: right;\n",
              "    }\n",
              "</style>\n",
              "<table border=\"1\" class=\"dataframe\">\n",
              "  <thead>\n",
              "    <tr style=\"text-align: right;\">\n",
              "      <th></th>\n",
              "      <th>label</th>\n",
              "      <th>name</th>\n",
              "    </tr>\n",
              "  </thead>\n",
              "  <tbody>\n",
              "    <tr>\n",
              "      <th>0</th>\n",
              "      <td>apple_pie</td>\n",
              "      <td>1011328</td>\n",
              "    </tr>\n",
              "    <tr>\n",
              "      <th>1</th>\n",
              "      <td>apple_pie</td>\n",
              "      <td>101251</td>\n",
              "    </tr>\n",
              "    <tr>\n",
              "      <th>2</th>\n",
              "      <td>apple_pie</td>\n",
              "      <td>1034399</td>\n",
              "    </tr>\n",
              "    <tr>\n",
              "      <th>3</th>\n",
              "      <td>apple_pie</td>\n",
              "      <td>103801</td>\n",
              "    </tr>\n",
              "    <tr>\n",
              "      <th>4</th>\n",
              "      <td>apple_pie</td>\n",
              "      <td>1038694</td>\n",
              "    </tr>\n",
              "    <tr>\n",
              "      <th>...</th>\n",
              "      <td>...</td>\n",
              "      <td>...</td>\n",
              "    </tr>\n",
              "    <tr>\n",
              "      <th>25245</th>\n",
              "      <td>waffles</td>\n",
              "      <td>942009</td>\n",
              "    </tr>\n",
              "    <tr>\n",
              "      <th>25246</th>\n",
              "      <td>waffles</td>\n",
              "      <td>954028</td>\n",
              "    </tr>\n",
              "    <tr>\n",
              "      <th>25247</th>\n",
              "      <td>waffles</td>\n",
              "      <td>96181</td>\n",
              "    </tr>\n",
              "    <tr>\n",
              "      <th>25248</th>\n",
              "      <td>waffles</td>\n",
              "      <td>97015</td>\n",
              "    </tr>\n",
              "    <tr>\n",
              "      <th>25249</th>\n",
              "      <td>waffles</td>\n",
              "      <td>971843</td>\n",
              "    </tr>\n",
              "  </tbody>\n",
              "</table>\n",
              "<p>25250 rows × 2 columns</p>\n",
              "</div>"
            ],
            "text/plain": [
              "           label     name\n",
              "0      apple_pie  1011328\n",
              "1      apple_pie   101251\n",
              "2      apple_pie  1034399\n",
              "3      apple_pie   103801\n",
              "4      apple_pie  1038694\n",
              "...          ...      ...\n",
              "25245    waffles   942009\n",
              "25246    waffles   954028\n",
              "25247    waffles    96181\n",
              "25248    waffles    97015\n",
              "25249    waffles   971843\n",
              "\n",
              "[25250 rows x 2 columns]"
            ]
          },
          "metadata": {
            "tags": []
          },
          "execution_count": 4
        }
      ]
    },
    {
      "cell_type": "code",
      "metadata": {
        "colab": {
          "base_uri": "https://localhost:8080/",
          "height": 115,
          "referenced_widgets": [
            "f4f6db9b3da3449e9015c6a292d2984b",
            "4c2832a74f724580bff93f4eed08c8cf",
            "87820599f4ac44769af52542a8ff3bcb",
            "e555c6d5607c467792977c833bf3f940",
            "c0dc6745e2b54343b5aff02b6cb008d4",
            "94bb50153b54497bb355bc2bdf7fa594",
            "3bef713f00964916b4ccb3e1a3267825",
            "bb768fd9c73140e08dee74fe47813026",
            "74cac1041fb5471fa65fe6bbfef81c55",
            "fc6fcdfa260944878d13e7485a5ca8b3",
            "530b48742f004eefa5aef81b2fd41d5a",
            "a87a7693d6494b32bedc9f80d55a5467",
            "26e529f5d3814d38a7534b68fa4b728a",
            "c194505d3391497bbd5a5fd4dc27535e",
            "b27f627ca54f431bb72f2eb6d3190e58",
            "f02322153f7f44898a9bf26882f7cc85"
          ]
        },
        "id": "W4TCnqPKVlYf",
        "outputId": "bc9e8e54-ce0a-4404-d428-867849238fc3"
      },
      "source": [
        "# #Separate Assets into Training and Testing\n",
        "# TOTAL_TRAIN = df_train.shape[0]\n",
        "# TOTAL_TEST = df_train.shape[0]\n",
        "# TOTAL_CLASS = label_df.shape[0]\n",
        "\n",
        "# IMG_H = 200\n",
        "# IMG_W = 200\n",
        "# DATA_SETS = '/content/drive/MyDrive/datasets/food101/food41/images'\n",
        "\n",
        "# EPOCHS = 20\n",
        "# BATCH_SIZE = 32\n",
        "\n",
        "# SEED = 23\n",
        "# def make_path(row):\n",
        "#   return f'{DATA_SETS}/{row[\"label\"]}/{row[\"name\"]}.jpg'\n",
        "\n",
        "# df_train.loc[:,'path'] = df_train.progress_apply(make_path, axis =1)\n",
        "# df_test.loc[:,'path'] = df_test.progress_apply(make_path,axis=1)"
      ],
      "execution_count": null,
      "outputs": [
        {
          "output_type": "display_data",
          "data": {
            "application/vnd.jupyter.widget-view+json": {
              "model_id": "f4f6db9b3da3449e9015c6a292d2984b",
              "version_minor": 0,
              "version_major": 2
            },
            "text/plain": [
              "HBox(children=(FloatProgress(value=0.0, description='progress: ', max=75750.0, style=ProgressStyle(description…"
            ]
          },
          "metadata": {
            "tags": []
          }
        },
        {
          "output_type": "stream",
          "text": [
            "\n"
          ],
          "name": "stdout"
        },
        {
          "output_type": "display_data",
          "data": {
            "application/vnd.jupyter.widget-view+json": {
              "model_id": "74cac1041fb5471fa65fe6bbfef81c55",
              "version_minor": 0,
              "version_major": 2
            },
            "text/plain": [
              "HBox(children=(FloatProgress(value=0.0, description='progress: ', max=25250.0, style=ProgressStyle(description…"
            ]
          },
          "metadata": {
            "tags": []
          }
        },
        {
          "output_type": "stream",
          "text": [
            "\n"
          ],
          "name": "stdout"
        }
      ]
    },
    {
      "cell_type": "code",
      "metadata": {
        "id": "eV8uOcOQyFq9"
      },
      "source": [
        "# label_mapper = dict(zip(df_train['label'].unique(), np.arange(len(df_train['label'].unique()))))\n",
        "# df_train['label_index'] = df_train['label'].map(label_mapper)\n",
        "# df_test['label_index'] = df_train['label'].map(label_mapper)"
      ],
      "execution_count": null,
      "outputs": []
    },
    {
      "cell_type": "code",
      "metadata": {
        "colab": {
          "base_uri": "https://localhost:8080/",
          "height": 35
        },
        "id": "y1Isaz4PyhjZ",
        "outputId": "d486e21a-54ec-45ad-b0e6-a6366fc4f995"
      },
      "source": [
        "# df_test['path'][0]"
      ],
      "execution_count": null,
      "outputs": [
        {
          "output_type": "execute_result",
          "data": {
            "application/vnd.google.colaboratory.intrinsic+json": {
              "type": "string"
            },
            "text/plain": [
              "'/content/drive/MyDrive/datasets/food101/food41/images/apple_pie/1011328.jpg'"
            ]
          },
          "metadata": {
            "tags": []
          },
          "execution_count": 7
        }
      ]
    },
    {
      "cell_type": "code",
      "metadata": {
        "colab": {
          "base_uri": "https://localhost:8080/",
          "height": 265
        },
        "id": "Jj6lRgbxVqte",
        "outputId": "fa36562e-8374-44d6-80e4-c3a61d760e0b"
      },
      "source": [
        "#Show the Image\n",
        "\n",
        "%matplotlib inline\n",
        "\n",
        "import matplotlib.pyplot as plt\n",
        "import matplotlib.image as mpimg\n",
        "\n",
        "pic_index = 2\n",
        "\n",
        "img = mpimg.imread('/content/drive/MyDrive/datasets/food_11/food11/evaluation/Bread/0.jpg')\n",
        "plt.imshow(img)\n",
        "plt.axis('Off')\n",
        "plt.show\n"
      ],
      "execution_count": 11,
      "outputs": [
        {
          "output_type": "execute_result",
          "data": {
            "text/plain": [
              "<function matplotlib.pyplot.show>"
            ]
          },
          "metadata": {
            "tags": []
          },
          "execution_count": 11
        },
        {
          "output_type": "display_data",
          "data": {
            "image/png": "[encoded data removed]",
            "text/plain": [
              "<Figure size 432x288 with 1 Axes>"
            ]
          },
          "metadata": {
            "tags": [],
            "needs_background": "light"
          }
        }
      ]
    },
    {
      "cell_type": "code",
      "metadata": {
        "colab": {
          "base_uri": "https://localhost:8080/"
        },
        "id": "5kKk4JxZVsHi",
        "outputId": "37f3dfa3-c6a0-42de-f987-d1b3b2dfe51c"
      },
      "source": [
        "#Make a Model\n",
        "\n",
        "training_datagen = ImageDataGenerator(\n",
        "      rescale = 1./255,\n",
        "\t    rotation_range=40,\n",
        "      width_shift_range=0.2,\n",
        "      height_shift_range=0.2,\n",
        "      shear_range=0.2,\n",
        "      zoom_range=0.2,\n",
        "      horizontal_flip=True,\n",
        "      fill_mode='nearest'\n",
        ")\n",
        "\n",
        "test_datagen = ImageDataGenerator(rescale=1./255)\n",
        "validation_datagen = ImageDataGenerator(rescale=1./255)\n",
        "\n",
        "train_generator = training_datagen.flow_from_directory(\n",
        "    directory = '/content/drive/MyDrive/datasets/food_11/food11/training/',\n",
        "    target_size=(150,150),\n",
        "    batch_size=32,\n",
        "    shuffle=True,\n",
        "    class_mode=\"categorical\"\n",
        ")\n",
        "\n",
        "validation_generator = validation_datagen.flow_from_directory(\n",
        "    directory = '/content/drive/MyDrive/datasets/food_11/food11/validation/',\n",
        "    target_size=(150,150),\n",
        "    batch_size=32,\n",
        "    shuffle=True,\n",
        "    class_mode=\"categorical\"\n",
        ")\n",
        "\n",
        "test_generator = test_datagen.flow_from_directory(\n",
        "    directory = '/content/drive/MyDrive/datasets/food_11/food11/evaluation/',\n",
        "    target_size=(150,150),\n",
        "    batch_size=32,\n",
        "    shuffle=True,\n",
        "    class_mode=\"categorical\"\n",
        ")"
      ],
      "execution_count": 13,
      "outputs": [
        {
          "output_type": "stream",
          "text": [
            "Found 9866 images belonging to 11 classes.\n",
            "Found 3430 images belonging to 11 classes.\n",
            "Found 3347 images belonging to 11 classes.\n"
          ],
          "name": "stdout"
        }
      ]
    },
    {
      "cell_type": "code",
      "metadata": {
        "colab": {
          "base_uri": "https://localhost:8080/"
        },
        "id": "B6K1OtY6Vvjs",
        "outputId": "ca68bf4c-a4f6-4089-8948-47e0e095a2e8"
      },
      "source": [
        "#Learn a Model\n",
        "model = tf.keras.models.Sequential([\n",
        "  tf.keras.layers.Conv2D(64,(3,3),padding='same',activation='relu',input_shape=(150,150,3)),\n",
        "  tf.keras.layers.MaxPooling2D(2,2),\n",
        "\n",
        "  tf.keras.layers.Conv2D(64,(3,3),padding='same',activation='relu'),\n",
        "  tf.keras.layers.MaxPooling2D(2,2),\n",
        "\n",
        "  tf.keras.layers.Conv2D(64, (3,3),padding='same', activation='relu'),\n",
        "  tf.keras.layers.MaxPooling2D(2,2),\n",
        "  \n",
        "  tf.keras.layers.Conv2D(256, (3,3),padding='same', activation='relu'),\n",
        "  tf.keras.layers.MaxPooling2D(2,2),\n",
        "\n",
        "  tf.keras.layers.Conv2D(256, (3,3),padding='same', activation='relu'),\n",
        "  tf.keras.layers.MaxPooling2D(2,2),\n",
        "\n",
        "\n",
        "  tf.keras.layers.Flatten(),\n",
        "  tf.keras.layers.Dropout(0.5),\n",
        "  tf.keras.layers.Dense(512,activation='relu'),\n",
        "  tf.keras.layers.Dense(11,activation='softmax')\n",
        "])\n",
        "\n",
        "model.summary()"
      ],
      "execution_count": 24,
      "outputs": [
        {
          "output_type": "stream",
          "text": [
            "Model: \"sequential_5\"\n",
            "_________________________________________________________________\n",
            "Layer (type)                 Output Shape              Param #   \n",
            "=================================================================\n",
            "conv2d_25 (Conv2D)           (None, 150, 150, 64)      1792      \n",
            "_________________________________________________________________\n",
            "max_pooling2d_25 (MaxPooling (None, 75, 75, 64)        0         \n",
            "_________________________________________________________________\n",
            "conv2d_26 (Conv2D)           (None, 75, 75, 64)        36928     \n",
            "_________________________________________________________________\n",
            "max_pooling2d_26 (MaxPooling (None, 37, 37, 64)        0         \n",
            "_________________________________________________________________\n",
            "conv2d_27 (Conv2D)           (None, 37, 37, 64)        36928     \n",
            "_________________________________________________________________\n",
            "max_pooling2d_27 (MaxPooling (None, 18, 18, 64)        0         \n",
            "_________________________________________________________________\n",
            "conv2d_28 (Conv2D)           (None, 18, 18, 256)       147712    \n",
            "_________________________________________________________________\n",
            "max_pooling2d_28 (MaxPooling (None, 9, 9, 256)         0         \n",
            "_________________________________________________________________\n",
            "conv2d_29 (Conv2D)           (None, 9, 9, 256)         590080    \n",
            "_________________________________________________________________\n",
            "max_pooling2d_29 (MaxPooling (None, 4, 4, 256)         0         \n",
            "_________________________________________________________________\n",
            "flatten_5 (Flatten)          (None, 4096)              0         \n",
            "_________________________________________________________________\n",
            "dropout_5 (Dropout)          (None, 4096)              0         \n",
            "_________________________________________________________________\n",
            "dense_10 (Dense)             (None, 512)               2097664   \n",
            "_________________________________________________________________\n",
            "dense_11 (Dense)             (None, 11)                5643      \n",
            "=================================================================\n",
            "Total params: 2,916,747\n",
            "Trainable params: 2,916,747\n",
            "Non-trainable params: 0\n",
            "_________________________________________________________________\n"
          ],
          "name": "stdout"
        }
      ]
    },
    {
      "cell_type": "code",
      "metadata": {
        "colab": {
          "base_uri": "https://localhost:8080/"
        },
        "id": "pBEhadDxVxXt",
        "outputId": "75a1e277-91e8-4dac-e0ce-7760275441d4"
      },
      "source": [
        "#Testing\n",
        "model.compile(loss='categorical_crossentropy',optimizer='rmsprop',metrics=['accuracy'])\n",
        "# history = model.fit(train_generator, epochs=EPOCHS, steps_per_epoch=10,validation_data=test_generator,verbose=1,validation_steps=3)\n",
        "history = model.fit(train_generator, epochs=100, steps_per_epoch=100,validation_data=validation_generator,verbose=1,validation_steps=5)\n",
        "\n"
      ],
      "execution_count": 25,
      "outputs": [
        {
          "output_type": "stream",
          "text": [
            "Epoch 1/100\n",
            "100/100 [==============================] - 45s 434ms/step - loss: 2.6520 - accuracy: 0.1377 - val_loss: 2.2547 - val_accuracy: 0.1750\n",
            "Epoch 2/100\n",
            "100/100 [==============================] - 41s 414ms/step - loss: 2.2815 - accuracy: 0.1626 - val_loss: 2.2269 - val_accuracy: 0.1813\n",
            "Epoch 3/100\n",
            "100/100 [==============================] - 43s 433ms/step - loss: 2.2155 - accuracy: 0.2160 - val_loss: 2.3053 - val_accuracy: 0.2188\n",
            "Epoch 4/100\n",
            "100/100 [==============================] - 42s 422ms/step - loss: 2.1597 - accuracy: 0.2398 - val_loss: 2.4887 - val_accuracy: 0.1375\n",
            "Epoch 5/100\n",
            "100/100 [==============================] - 42s 424ms/step - loss: 2.0959 - accuracy: 0.2681 - val_loss: 2.6986 - val_accuracy: 0.1063\n",
            "Epoch 6/100\n",
            "100/100 [==============================] - 43s 430ms/step - loss: 2.0307 - accuracy: 0.2803 - val_loss: 2.0439 - val_accuracy: 0.2500\n",
            "Epoch 7/100\n",
            "100/100 [==============================] - 42s 421ms/step - loss: 1.9833 - accuracy: 0.2995 - val_loss: 1.8876 - val_accuracy: 0.3125\n",
            "Epoch 8/100\n",
            "100/100 [==============================] - 42s 421ms/step - loss: 1.9966 - accuracy: 0.3071 - val_loss: 1.7199 - val_accuracy: 0.3938\n",
            "Epoch 9/100\n",
            "100/100 [==============================] - 42s 423ms/step - loss: 1.9595 - accuracy: 0.3325 - val_loss: 1.8316 - val_accuracy: 0.4000\n",
            "Epoch 10/100\n",
            "100/100 [==============================] - 43s 434ms/step - loss: 1.9250 - accuracy: 0.3301 - val_loss: 1.7103 - val_accuracy: 0.4313\n",
            "Epoch 11/100\n",
            "100/100 [==============================] - 42s 417ms/step - loss: 1.8528 - accuracy: 0.3496 - val_loss: 1.7117 - val_accuracy: 0.4000\n",
            "Epoch 12/100\n",
            "100/100 [==============================] - 42s 419ms/step - loss: 1.8250 - accuracy: 0.3730 - val_loss: 2.2104 - val_accuracy: 0.3688\n",
            "Epoch 13/100\n",
            "100/100 [==============================] - 42s 415ms/step - loss: 1.8351 - accuracy: 0.3712 - val_loss: 1.6195 - val_accuracy: 0.4625\n",
            "Epoch 14/100\n",
            "100/100 [==============================] - 41s 413ms/step - loss: 1.7967 - accuracy: 0.3818 - val_loss: 1.7282 - val_accuracy: 0.4062\n",
            "Epoch 15/100\n",
            "100/100 [==============================] - 42s 422ms/step - loss: 1.7874 - accuracy: 0.3941 - val_loss: 1.4073 - val_accuracy: 0.5000\n",
            "Epoch 16/100\n",
            "100/100 [==============================] - 42s 421ms/step - loss: 1.7291 - accuracy: 0.4268 - val_loss: 1.5743 - val_accuracy: 0.4688\n",
            "Epoch 17/100\n",
            "100/100 [==============================] - 41s 411ms/step - loss: 1.6726 - accuracy: 0.4289 - val_loss: 1.5079 - val_accuracy: 0.4812\n",
            "Epoch 18/100\n",
            "100/100 [==============================] - 41s 414ms/step - loss: 1.6529 - accuracy: 0.4203 - val_loss: 1.5916 - val_accuracy: 0.4688\n",
            "Epoch 19/100\n",
            "100/100 [==============================] - 41s 411ms/step - loss: 1.6279 - accuracy: 0.4488 - val_loss: 2.5926 - val_accuracy: 0.3187\n",
            "Epoch 20/100\n",
            "100/100 [==============================] - 41s 413ms/step - loss: 1.6517 - accuracy: 0.4505 - val_loss: 1.4977 - val_accuracy: 0.5500\n",
            "Epoch 21/100\n",
            "100/100 [==============================] - 44s 435ms/step - loss: 1.5846 - accuracy: 0.4529 - val_loss: 1.6033 - val_accuracy: 0.4875\n",
            "Epoch 22/100\n",
            "100/100 [==============================] - 41s 414ms/step - loss: 1.5872 - accuracy: 0.4624 - val_loss: 1.5754 - val_accuracy: 0.5250\n",
            "Epoch 23/100\n",
            "100/100 [==============================] - 42s 417ms/step - loss: 1.5773 - accuracy: 0.4665 - val_loss: 1.4918 - val_accuracy: 0.5312\n",
            "Epoch 24/100\n",
            "100/100 [==============================] - 41s 409ms/step - loss: 1.5852 - accuracy: 0.4676 - val_loss: 1.6289 - val_accuracy: 0.4812\n",
            "Epoch 25/100\n",
            "100/100 [==============================] - 42s 422ms/step - loss: 1.5757 - accuracy: 0.4721 - val_loss: 1.6947 - val_accuracy: 0.4062\n",
            "Epoch 26/100\n",
            "100/100 [==============================] - 42s 422ms/step - loss: 1.5306 - accuracy: 0.4900 - val_loss: 1.5733 - val_accuracy: 0.5437\n",
            "Epoch 27/100\n",
            "100/100 [==============================] - 42s 415ms/step - loss: 1.5021 - accuracy: 0.4993 - val_loss: 1.7139 - val_accuracy: 0.5375\n",
            "Epoch 28/100\n",
            "100/100 [==============================] - 43s 426ms/step - loss: 1.5371 - accuracy: 0.4831 - val_loss: 1.5028 - val_accuracy: 0.4812\n",
            "Epoch 29/100\n",
            "100/100 [==============================] - 43s 427ms/step - loss: 1.4984 - accuracy: 0.4967 - val_loss: 1.4507 - val_accuracy: 0.4938\n",
            "Epoch 30/100\n",
            "100/100 [==============================] - 44s 436ms/step - loss: 1.5574 - accuracy: 0.4767 - val_loss: 1.6552 - val_accuracy: 0.4375\n",
            "Epoch 31/100\n",
            "100/100 [==============================] - 42s 421ms/step - loss: 1.4900 - accuracy: 0.4818 - val_loss: 1.2936 - val_accuracy: 0.6250\n",
            "Epoch 32/100\n",
            "100/100 [==============================] - 42s 416ms/step - loss: 1.5415 - accuracy: 0.4827 - val_loss: 1.6915 - val_accuracy: 0.5063\n",
            "Epoch 33/100\n",
            "100/100 [==============================] - 42s 416ms/step - loss: 1.5271 - accuracy: 0.4993 - val_loss: 1.4846 - val_accuracy: 0.5312\n",
            "Epoch 34/100\n",
            "100/100 [==============================] - 42s 415ms/step - loss: 1.5003 - accuracy: 0.4950 - val_loss: 1.7509 - val_accuracy: 0.4875\n",
            "Epoch 35/100\n",
            "100/100 [==============================] - 42s 418ms/step - loss: 1.5098 - accuracy: 0.5019 - val_loss: 1.5222 - val_accuracy: 0.5312\n",
            "Epoch 36/100\n",
            "100/100 [==============================] - 42s 422ms/step - loss: 1.4385 - accuracy: 0.5125 - val_loss: 1.4852 - val_accuracy: 0.4875\n",
            "Epoch 37/100\n",
            "100/100 [==============================] - 42s 421ms/step - loss: 1.4246 - accuracy: 0.5219 - val_loss: 1.5754 - val_accuracy: 0.5000\n",
            "Epoch 38/100\n",
            "100/100 [==============================] - 43s 428ms/step - loss: 1.4404 - accuracy: 0.5092 - val_loss: 1.3640 - val_accuracy: 0.5562\n",
            "Epoch 39/100\n",
            "100/100 [==============================] - 42s 424ms/step - loss: 1.4333 - accuracy: 0.5147 - val_loss: 1.6850 - val_accuracy: 0.5063\n",
            "Epoch 40/100\n",
            "100/100 [==============================] - 42s 416ms/step - loss: 1.4641 - accuracy: 0.5136 - val_loss: 1.3853 - val_accuracy: 0.5250\n",
            "Epoch 41/100\n",
            "100/100 [==============================] - 41s 407ms/step - loss: 1.4085 - accuracy: 0.5210 - val_loss: 2.0310 - val_accuracy: 0.4688\n",
            "Epoch 42/100\n",
            "100/100 [==============================] - 42s 423ms/step - loss: 1.4010 - accuracy: 0.5481 - val_loss: 1.3594 - val_accuracy: 0.5562\n",
            "Epoch 43/100\n",
            "100/100 [==============================] - 42s 415ms/step - loss: 1.4280 - accuracy: 0.5469 - val_loss: 1.8129 - val_accuracy: 0.5250\n",
            "Epoch 44/100\n",
            "100/100 [==============================] - 42s 418ms/step - loss: 1.4745 - accuracy: 0.5127 - val_loss: 1.4772 - val_accuracy: 0.5188\n",
            "Epoch 45/100\n",
            "100/100 [==============================] - 42s 423ms/step - loss: 1.4305 - accuracy: 0.5243 - val_loss: 1.2521 - val_accuracy: 0.5875\n",
            "Epoch 46/100\n",
            "100/100 [==============================] - 42s 425ms/step - loss: 1.4097 - accuracy: 0.5205 - val_loss: 1.9291 - val_accuracy: 0.4000\n",
            "Epoch 47/100\n",
            "100/100 [==============================] - 43s 434ms/step - loss: 1.4389 - accuracy: 0.5304 - val_loss: 1.2751 - val_accuracy: 0.5813\n",
            "Epoch 48/100\n",
            "100/100 [==============================] - 43s 433ms/step - loss: 1.4127 - accuracy: 0.5299 - val_loss: 1.1418 - val_accuracy: 0.6250\n",
            "Epoch 49/100\n",
            "100/100 [==============================] - 42s 421ms/step - loss: 1.4801 - accuracy: 0.5175 - val_loss: 1.1869 - val_accuracy: 0.6812\n",
            "Epoch 50/100\n",
            "100/100 [==============================] - 43s 433ms/step - loss: 1.3916 - accuracy: 0.5532 - val_loss: 1.9238 - val_accuracy: 0.4437\n",
            "Epoch 51/100\n",
            "100/100 [==============================] - 43s 430ms/step - loss: 1.3540 - accuracy: 0.5470 - val_loss: 1.4826 - val_accuracy: 0.5500\n",
            "Epoch 52/100\n",
            "100/100 [==============================] - 42s 422ms/step - loss: 1.4314 - accuracy: 0.5315 - val_loss: 1.2832 - val_accuracy: 0.5750\n",
            "Epoch 53/100\n",
            "100/100 [==============================] - 42s 421ms/step - loss: 1.4270 - accuracy: 0.5161 - val_loss: 1.3623 - val_accuracy: 0.5375\n",
            "Epoch 54/100\n",
            "100/100 [==============================] - 43s 427ms/step - loss: 1.4148 - accuracy: 0.5430 - val_loss: 1.3923 - val_accuracy: 0.5625\n",
            "Epoch 55/100\n",
            "100/100 [==============================] - 43s 426ms/step - loss: 1.3993 - accuracy: 0.5529 - val_loss: 1.3754 - val_accuracy: 0.6250\n",
            "Epoch 56/100\n",
            "100/100 [==============================] - 42s 422ms/step - loss: 1.4977 - accuracy: 0.5276 - val_loss: 1.6008 - val_accuracy: 0.5562\n",
            "Epoch 57/100\n",
            "100/100 [==============================] - 45s 445ms/step - loss: 1.4325 - accuracy: 0.5379 - val_loss: 1.9694 - val_accuracy: 0.5063\n",
            "Epoch 58/100\n",
            "100/100 [==============================] - 43s 431ms/step - loss: 1.5069 - accuracy: 0.5155 - val_loss: 1.2584 - val_accuracy: 0.6062\n",
            "Epoch 59/100\n",
            "100/100 [==============================] - 44s 442ms/step - loss: 1.4556 - accuracy: 0.5241 - val_loss: 1.5006 - val_accuracy: 0.5250\n",
            "Epoch 60/100\n",
            "100/100 [==============================] - 44s 439ms/step - loss: 1.4386 - accuracy: 0.5379 - val_loss: 1.6300 - val_accuracy: 0.4437\n",
            "Epoch 61/100\n",
            "100/100 [==============================] - 45s 449ms/step - loss: 1.4287 - accuracy: 0.5320 - val_loss: 1.1775 - val_accuracy: 0.5875\n",
            "Epoch 62/100\n",
            "100/100 [==============================] - 46s 455ms/step - loss: 1.4119 - accuracy: 0.5345 - val_loss: 1.5328 - val_accuracy: 0.5125\n",
            "Epoch 63/100\n",
            "100/100 [==============================] - 45s 448ms/step - loss: 1.4879 - accuracy: 0.5168 - val_loss: 1.2881 - val_accuracy: 0.6187\n",
            "Epoch 64/100\n",
            "100/100 [==============================] - 45s 447ms/step - loss: 1.4032 - accuracy: 0.5428 - val_loss: 1.5567 - val_accuracy: 0.5625\n",
            "Epoch 65/100\n",
            "100/100 [==============================] - 43s 433ms/step - loss: 1.4076 - accuracy: 0.5444 - val_loss: 1.9033 - val_accuracy: 0.4563\n",
            "Epoch 66/100\n",
            "100/100 [==============================] - 44s 436ms/step - loss: 1.4320 - accuracy: 0.5441 - val_loss: 1.3151 - val_accuracy: 0.6125\n",
            "Epoch 67/100\n",
            "100/100 [==============================] - 43s 429ms/step - loss: 1.4695 - accuracy: 0.5286 - val_loss: 1.5892 - val_accuracy: 0.5562\n",
            "Epoch 68/100\n",
            "100/100 [==============================] - 44s 436ms/step - loss: 1.4493 - accuracy: 0.5352 - val_loss: 1.4800 - val_accuracy: 0.5188\n",
            "Epoch 69/100\n",
            "100/100 [==============================] - 44s 434ms/step - loss: 1.4318 - accuracy: 0.5258 - val_loss: 1.5570 - val_accuracy: 0.5188\n",
            "Epoch 70/100\n",
            "100/100 [==============================] - 45s 450ms/step - loss: 1.4618 - accuracy: 0.5238 - val_loss: 1.4044 - val_accuracy: 0.5125\n",
            "Epoch 71/100\n",
            "100/100 [==============================] - 43s 432ms/step - loss: 1.4224 - accuracy: 0.5442 - val_loss: 1.3178 - val_accuracy: 0.6250\n",
            "Epoch 72/100\n",
            "100/100 [==============================] - 44s 443ms/step - loss: 1.4994 - accuracy: 0.5149 - val_loss: 1.3844 - val_accuracy: 0.5625\n",
            "Epoch 73/100\n",
            "100/100 [==============================] - 44s 440ms/step - loss: 1.4294 - accuracy: 0.5508 - val_loss: 1.4595 - val_accuracy: 0.6375\n",
            "Epoch 74/100\n",
            "100/100 [==============================] - 45s 451ms/step - loss: 1.4463 - accuracy: 0.5256 - val_loss: 1.6043 - val_accuracy: 0.4500\n",
            "Epoch 75/100\n",
            "100/100 [==============================] - 43s 429ms/step - loss: 1.4541 - accuracy: 0.5378 - val_loss: 1.6158 - val_accuracy: 0.5875\n",
            "Epoch 76/100\n",
            "100/100 [==============================] - 44s 437ms/step - loss: 1.4722 - accuracy: 0.5269 - val_loss: 1.3381 - val_accuracy: 0.5375\n",
            "Epoch 77/100\n",
            "100/100 [==============================] - 45s 447ms/step - loss: 1.3559 - accuracy: 0.5569 - val_loss: 1.4973 - val_accuracy: 0.5375\n",
            "Epoch 78/100\n",
            "100/100 [==============================] - 46s 461ms/step - loss: 1.4576 - accuracy: 0.5208 - val_loss: 1.3887 - val_accuracy: 0.5250\n",
            "Epoch 79/100\n",
            "100/100 [==============================] - 45s 452ms/step - loss: 1.5065 - accuracy: 0.5068 - val_loss: 1.7700 - val_accuracy: 0.5188\n",
            "Epoch 80/100\n",
            "100/100 [==============================] - 45s 446ms/step - loss: 1.4940 - accuracy: 0.5121 - val_loss: 1.3327 - val_accuracy: 0.5938\n",
            "Epoch 81/100\n",
            "100/100 [==============================] - 44s 441ms/step - loss: 1.5448 - accuracy: 0.4958 - val_loss: 1.3755 - val_accuracy: 0.5375\n",
            "Epoch 82/100\n",
            "100/100 [==============================] - 44s 442ms/step - loss: 1.5200 - accuracy: 0.5123 - val_loss: 1.3922 - val_accuracy: 0.5562\n",
            "Epoch 83/100\n",
            "100/100 [==============================] - 44s 439ms/step - loss: 1.5931 - accuracy: 0.4832 - val_loss: 1.8179 - val_accuracy: 0.5625\n",
            "Epoch 84/100\n",
            "100/100 [==============================] - 43s 430ms/step - loss: 1.5080 - accuracy: 0.5151 - val_loss: 1.2976 - val_accuracy: 0.6313\n",
            "Epoch 85/100\n",
            "100/100 [==============================] - 43s 433ms/step - loss: 1.5386 - accuracy: 0.5030 - val_loss: 1.8386 - val_accuracy: 0.4625\n",
            "Epoch 86/100\n",
            "100/100 [==============================] - 44s 444ms/step - loss: 1.5111 - accuracy: 0.5119 - val_loss: 1.2593 - val_accuracy: 0.6000\n",
            "Epoch 87/100\n",
            "100/100 [==============================] - 44s 437ms/step - loss: 1.5057 - accuracy: 0.5098 - val_loss: 1.5564 - val_accuracy: 0.4938\n",
            "Epoch 88/100\n",
            "100/100 [==============================] - 44s 443ms/step - loss: 1.4753 - accuracy: 0.5274 - val_loss: 1.3824 - val_accuracy: 0.6062\n",
            "Epoch 89/100\n",
            "100/100 [==============================] - 45s 446ms/step - loss: 1.5385 - accuracy: 0.5044 - val_loss: 1.2768 - val_accuracy: 0.6250\n",
            "Epoch 90/100\n",
            "100/100 [==============================] - 45s 447ms/step - loss: 1.6037 - accuracy: 0.4934 - val_loss: 1.7566 - val_accuracy: 0.4688\n",
            "Epoch 91/100\n",
            "100/100 [==============================] - 44s 441ms/step - loss: 1.6172 - accuracy: 0.4859 - val_loss: 1.3968 - val_accuracy: 0.5188\n",
            "Epoch 92/100\n",
            "100/100 [==============================] - 44s 439ms/step - loss: 1.6122 - accuracy: 0.4969 - val_loss: 1.7394 - val_accuracy: 0.5562\n",
            "Epoch 93/100\n",
            "100/100 [==============================] - 45s 446ms/step - loss: 1.5297 - accuracy: 0.5018 - val_loss: 1.9081 - val_accuracy: 0.4875\n",
            "Epoch 94/100\n",
            "100/100 [==============================] - 45s 447ms/step - loss: 1.5750 - accuracy: 0.4909 - val_loss: 1.3904 - val_accuracy: 0.5437\n",
            "Epoch 95/100\n",
            "100/100 [==============================] - 45s 444ms/step - loss: 1.5649 - accuracy: 0.5097 - val_loss: 1.5016 - val_accuracy: 0.5000\n",
            "Epoch 96/100\n",
            "100/100 [==============================] - 44s 438ms/step - loss: 1.5876 - accuracy: 0.4899 - val_loss: 1.2146 - val_accuracy: 0.5813\n",
            "Epoch 97/100\n",
            "100/100 [==============================] - 45s 452ms/step - loss: 1.6810 - accuracy: 0.4610 - val_loss: 1.5239 - val_accuracy: 0.4812\n",
            "Epoch 98/100\n",
            "100/100 [==============================] - 45s 448ms/step - loss: 1.6282 - accuracy: 0.4770 - val_loss: 1.6692 - val_accuracy: 0.4625\n",
            "Epoch 99/100\n",
            "100/100 [==============================] - 45s 445ms/step - loss: 1.6659 - accuracy: 0.4724 - val_loss: 1.4793 - val_accuracy: 0.5375\n",
            "Epoch 100/100\n",
            "100/100 [==============================] - 44s 443ms/step - loss: 1.6022 - accuracy: 0.5146 - val_loss: 1.4588 - val_accuracy: 0.5000\n"
          ],
          "name": "stdout"
        }
      ]
    },
    {
      "cell_type": "code",
      "metadata": {
        "colab": {
          "base_uri": "https://localhost:8080/",
          "height": 298
        },
        "id": "dH9Wl8PPah3i",
        "outputId": "103e15d6-61ab-450b-ceaf-615e5e675b4a"
      },
      "source": [
        "import matplotlib.pyplot as plt\n",
        "acc = history.history['accuracy']\n",
        "val_acc = history.history['val_accuracy']\n",
        "loss = history.history['loss']\n",
        "val_loss = history.history['val_loss']\n",
        "\n",
        "epochs = range(len(acc))\n",
        "\n",
        "plt.plot(epochs, acc, 'r', label='Training accuracy')\n",
        "plt.plot(epochs, val_acc, 'b', label='Validation accuracy')\n",
        "plt.title('Training and validation accuracy')\n",
        "plt.legend(loc=0)\n",
        "plt.figure()\n",
        "\n",
        "\n",
        "plt.show()"
      ],
      "execution_count": 26,
      "outputs": [
        {
          "output_type": "display_data",
          "data": {
            "image/png": "[encoded data removed]",
            "text/plain": [
              "<Figure size 432x288 with 1 Axes>"
            ]
          },
          "metadata": {
            "tags": [],
            "needs_background": "light"
          }
        },
        {
          "output_type": "display_data",
          "data": {
            "text/plain": [
              "<Figure size 432x288 with 0 Axes>"
            ]
          },
          "metadata": {
            "tags": []
          }
        }
      ]
    },
    {
      "cell_type": "code",
      "metadata": {
        "colab": {
          "base_uri": "https://localhost:8080/"
        },
        "id": "fhvdqLERVys7",
        "outputId": "8e4fc8da-2871-4b95-e0f7-d4eaeb798b9d"
      },
      "source": [
        "# model.save('model_1_food11')"
      ],
      "execution_count": 27,
      "outputs": [
        {
          "output_type": "stream",
          "text": [
            "INFO:tensorflow:Assets written to: model_1_food11/assets\n"
          ],
          "name": "stdout"
        }
      ]
    },
    {
      "cell_type": "code",
      "metadata": {
        "id": "x4a5mug1WGW7"
      },
      "source": [
        ""
      ],
      "execution_count": null,
      "outputs": []
    }
  ]
}