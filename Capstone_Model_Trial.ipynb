{
  "nbformat": 4,
  "nbformat_minor": 0,
  "metadata": {
    "colab": {
      "name": "Capstone_Model_Trial.ipynb",
      "provenance": [],
      "collapsed_sections": [],
      "authorship_tag": "ABX9TyMW8yS6Q+xF6ssKvot/GBxW",
      "include_colab_link": true
    },
    "kernelspec": {
      "name": "python3",
      "display_name": "Python 3"
    },
    "language_info": {
      "name": "python"
    },
    "accelerator": "GPU"
  },
  "cells": [
    {
      "cell_type": "markdown",
      "metadata": {
        "id": "view-in-github",
        "colab_type": "text"
      },
      "source": [
        "<a href=\"https://colab.research.google.com/github/arddhanaza/foodprint-bangkit-capstone/blob/machine_learning/Capstone_Model_Trial.ipynb\" target=\"_parent\"><img src=\"https://colab.research.google.com/assets/colab-badge.svg\" alt=\"Open In Colab\"/></a>"
      ]
    },
    {
      "cell_type": "code",
      "metadata": {
        "id": "LmMFtwdqup9v",
        "colab": {
          "base_uri": "https://localhost:8080/"
        },
        "outputId": "c2dedd98-bbed-41a2-bc08-05841846b777"
      },
      "source": [
        "# import needed library\n",
        "\n",
        "import tensorflow as tf\n",
        "print(\"TensorFlow version : \", tf.__version__)\n",
        "import keras_preprocessing\n",
        "from keras_preprocessing import image\n",
        "from keras_preprocessing.image import ImageDataGenerator"
      ],
      "execution_count": 1,
      "outputs": [
        {
          "output_type": "stream",
          "text": [
            "TensorFlow version :  2.5.0\n"
          ],
          "name": "stdout"
        }
      ]
    },
    {
      "cell_type": "code",
      "metadata": {
        "id": "TXe9HVZP3kZt"
      },
      "source": [
        "# extract the dataset\n",
        "\n",
        "import os\n",
        "import zipfile\n",
        "\n",
        "local_zip = '/tmp/ind_data_split.zip'\n",
        "zip_ref = zipfile.ZipFile(local_zip, 'r')\n",
        "zip_ref.extractall('/tmp/')\n",
        "zip_ref.close()"
      ],
      "execution_count": 2,
      "outputs": []
    },
    {
      "cell_type": "code",
      "metadata": {
        "id": "psr-UN8u35aX"
      },
      "source": [
        "# create directories\n",
        "\n",
        "base_dir = '/tmp/ind_data_split'\n",
        "\n",
        "train_dir = os.path.join(base_dir, 'train')\n",
        "validation_dir = os.path.join(base_dir, 'val')\n",
        "test_dir = os.path.join(base_dir, 'test')"
      ],
      "execution_count": 3,
      "outputs": []
    },
    {
      "cell_type": "code",
      "metadata": {
        "id": "U3X0dkv6405H",
        "colab": {
          "base_uri": "https://localhost:8080/"
        },
        "outputId": "d0d45005-29c9-4ffc-fccc-76992152cc66"
      },
      "source": [
        "# data preprocessing\n",
        "\n",
        "training_datagen = ImageDataGenerator(\n",
        "      rescale = 1./255,\n",
        "\t    rotation_range=40,\n",
        "      width_shift_range=0.2,\n",
        "      height_shift_range=0.2,\n",
        "      shear_range=0.2,\n",
        "      zoom_range=0.2,\n",
        "      horizontal_flip=True,\n",
        "      fill_mode='nearest')\n",
        "\n",
        "test_datagen = ImageDataGenerator(rescale=1./255)\n",
        "validation_datagen = ImageDataGenerator(rescale=1./255)\n",
        "\n",
        "train_generator = training_datagen.flow_from_directory(\n",
        "\ttrain_dir,\n",
        "\ttarget_size=(150,150),\n",
        "\tclass_mode='categorical',\n",
        "  batch_size=32\n",
        ")\n",
        "\n",
        "validation_generator = validation_datagen.flow_from_directory(\n",
        "\tvalidation_dir,\n",
        "\ttarget_size=(150,150),\n",
        "\tclass_mode='categorical',\n",
        "  batch_size=32\n",
        ")\n",
        "\n",
        "test_generator = validation_datagen.flow_from_directory(\n",
        "\ttest_dir,\n",
        "\ttarget_size=(150,150),\n",
        "\tclass_mode='categorical',\n",
        "  batch_size=32\n",
        ")"
      ],
      "execution_count": 4,
      "outputs": [
        {
          "output_type": "stream",
          "text": [
            "Found 1789 images belonging to 8 classes.\n",
            "Found 221 images belonging to 8 classes.\n",
            "Found 229 images belonging to 8 classes.\n"
          ],
          "name": "stdout"
        }
      ]
    },
    {
      "cell_type": "code",
      "metadata": {
        "id": "C-LzEOOj58Ao",
        "colab": {
          "base_uri": "https://localhost:8080/"
        },
        "outputId": "751b0d5b-010c-40b7-aa55-bb3b2af83867"
      },
      "source": [
        "# create the model\n",
        "\n",
        "model = tf.keras.models.Sequential([\n",
        "    tf.keras.layers.Conv2D(64, (3,3), padding='same', activation='relu', input_shape=(150, 150, 3)),\n",
        "    tf.keras.layers.MaxPooling2D(2, 2),\n",
        "\n",
        "    tf.keras.layers.Conv2D(64, (3,3), padding='same', activation='relu'),\n",
        "    tf.keras.layers.MaxPooling2D(2,2),\n",
        "    \n",
        "    tf.keras.layers.Conv2D(128, (3,3), padding='same', activation='relu'),\n",
        "    tf.keras.layers.MaxPooling2D(2,2),\n",
        "\n",
        "    tf.keras.layers.Conv2D(128, (3,3), padding='same', activation='relu'),\n",
        "    tf.keras.layers.MaxPooling2D(2,2),\n",
        "\n",
        "    tf.keras.layers.Conv2D(128, (3,3), padding='same', activation='relu'),\n",
        "    tf.keras.layers.MaxPooling2D(2,2),\n",
        "\n",
        "    tf.keras.layers.Flatten(),\n",
        "    tf.keras.layers.Dropout(0.5),\n",
        "\n",
        "    tf.keras.layers.Dense(512, activation='relu'),\n",
        "    tf.keras.layers.Dense(8, activation='softmax')\n",
        "])\n",
        "\n",
        "model.summary()"
      ],
      "execution_count": 5,
      "outputs": [
        {
          "output_type": "stream",
          "text": [
            "Model: \"sequential\"\n",
            "_________________________________________________________________\n",
            "Layer (type)                 Output Shape              Param #   \n",
            "=================================================================\n",
            "conv2d (Conv2D)              (None, 150, 150, 64)      1792      \n",
            "_________________________________________________________________\n",
            "max_pooling2d (MaxPooling2D) (None, 75, 75, 64)        0         \n",
            "_________________________________________________________________\n",
            "conv2d_1 (Conv2D)            (None, 75, 75, 64)        36928     \n",
            "_________________________________________________________________\n",
            "max_pooling2d_1 (MaxPooling2 (None, 37, 37, 64)        0         \n",
            "_________________________________________________________________\n",
            "conv2d_2 (Conv2D)            (None, 37, 37, 128)       73856     \n",
            "_________________________________________________________________\n",
            "max_pooling2d_2 (MaxPooling2 (None, 18, 18, 128)       0         \n",
            "_________________________________________________________________\n",
            "conv2d_3 (Conv2D)            (None, 18, 18, 128)       147584    \n",
            "_________________________________________________________________\n",
            "max_pooling2d_3 (MaxPooling2 (None, 9, 9, 128)         0         \n",
            "_________________________________________________________________\n",
            "conv2d_4 (Conv2D)            (None, 9, 9, 128)         147584    \n",
            "_________________________________________________________________\n",
            "max_pooling2d_4 (MaxPooling2 (None, 4, 4, 128)         0         \n",
            "_________________________________________________________________\n",
            "flatten (Flatten)            (None, 2048)              0         \n",
            "_________________________________________________________________\n",
            "dropout (Dropout)            (None, 2048)              0         \n",
            "_________________________________________________________________\n",
            "dense (Dense)                (None, 512)               1049088   \n",
            "_________________________________________________________________\n",
            "dense_1 (Dense)              (None, 8)                 4104      \n",
            "=================================================================\n",
            "Total params: 1,460,936\n",
            "Trainable params: 1,460,936\n",
            "Non-trainable params: 0\n",
            "_________________________________________________________________\n"
          ],
          "name": "stdout"
        }
      ]
    },
    {
      "cell_type": "code",
      "metadata": {
        "id": "JcOxjAB96Lq6",
        "colab": {
          "base_uri": "https://localhost:8080/"
        },
        "outputId": "2df346d8-829e-4fd3-c3f4-7b631efa328f"
      },
      "source": [
        "# compile model\n",
        "\n",
        "model.compile(loss = 'categorical_crossentropy', optimizer='rmsprop', metrics=['accuracy'])\n",
        "history = model.fit(train_generator,\n",
        "                    epochs=100,\n",
        "                    steps_per_epoch=50,\n",
        "                    validation_data=validation_generator,\n",
        "                    verbose=1,\n",
        "                    validation_steps=5)"
      ],
      "execution_count": 6,
      "outputs": [
        {
          "output_type": "stream",
          "text": [
            "Epoch 1/100\n",
            "50/50 [==============================] - 42s 201ms/step - loss: 1.9904 - accuracy: 0.1972 - val_loss: 1.8803 - val_accuracy: 0.2062\n",
            "Epoch 2/100\n",
            "50/50 [==============================] - 9s 185ms/step - loss: 1.8501 - accuracy: 0.2605 - val_loss: 1.7138 - val_accuracy: 0.3250\n",
            "Epoch 3/100\n",
            "50/50 [==============================] - 9s 186ms/step - loss: 1.7811 - accuracy: 0.3143 - val_loss: 1.6869 - val_accuracy: 0.3688\n",
            "Epoch 4/100\n",
            "50/50 [==============================] - 9s 189ms/step - loss: 1.7157 - accuracy: 0.3506 - val_loss: 1.5756 - val_accuracy: 0.3875\n",
            "Epoch 5/100\n",
            "50/50 [==============================] - 9s 185ms/step - loss: 1.6778 - accuracy: 0.3600 - val_loss: 1.6505 - val_accuracy: 0.3375\n",
            "Epoch 6/100\n",
            "50/50 [==============================] - 9s 185ms/step - loss: 1.6365 - accuracy: 0.4001 - val_loss: 1.5832 - val_accuracy: 0.3688\n",
            "Epoch 7/100\n",
            "50/50 [==============================] - 9s 186ms/step - loss: 1.5965 - accuracy: 0.4076 - val_loss: 1.4964 - val_accuracy: 0.4187\n",
            "Epoch 8/100\n",
            "50/50 [==============================] - 9s 185ms/step - loss: 1.5384 - accuracy: 0.4296 - val_loss: 1.4029 - val_accuracy: 0.4812\n",
            "Epoch 9/100\n",
            "50/50 [==============================] - 9s 186ms/step - loss: 1.5192 - accuracy: 0.4408 - val_loss: 1.6291 - val_accuracy: 0.3875\n",
            "Epoch 10/100\n",
            "50/50 [==============================] - 9s 185ms/step - loss: 1.4870 - accuracy: 0.4540 - val_loss: 1.4200 - val_accuracy: 0.5063\n",
            "Epoch 11/100\n",
            "50/50 [==============================] - 9s 184ms/step - loss: 1.4880 - accuracy: 0.4596 - val_loss: 1.4049 - val_accuracy: 0.4938\n",
            "Epoch 12/100\n",
            "50/50 [==============================] - 9s 186ms/step - loss: 1.4127 - accuracy: 0.4790 - val_loss: 1.4620 - val_accuracy: 0.4062\n",
            "Epoch 13/100\n",
            "50/50 [==============================] - 9s 189ms/step - loss: 1.4166 - accuracy: 0.4906 - val_loss: 1.2756 - val_accuracy: 0.4688\n",
            "Epoch 14/100\n",
            "50/50 [==============================] - 9s 185ms/step - loss: 1.3909 - accuracy: 0.4934 - val_loss: 1.3002 - val_accuracy: 0.5188\n",
            "Epoch 15/100\n",
            "50/50 [==============================] - 9s 186ms/step - loss: 1.3621 - accuracy: 0.5047 - val_loss: 1.2137 - val_accuracy: 0.5688\n",
            "Epoch 16/100\n",
            "50/50 [==============================] - 9s 186ms/step - loss: 1.2830 - accuracy: 0.5366 - val_loss: 1.1926 - val_accuracy: 0.5125\n",
            "Epoch 17/100\n",
            "50/50 [==============================] - 9s 185ms/step - loss: 1.3371 - accuracy: 0.5091 - val_loss: 1.1519 - val_accuracy: 0.5938\n",
            "Epoch 18/100\n",
            "50/50 [==============================] - 9s 186ms/step - loss: 1.3120 - accuracy: 0.5059 - val_loss: 1.4730 - val_accuracy: 0.4750\n",
            "Epoch 19/100\n",
            "50/50 [==============================] - 9s 187ms/step - loss: 1.2795 - accuracy: 0.5448 - val_loss: 1.3937 - val_accuracy: 0.4750\n",
            "Epoch 20/100\n",
            "50/50 [==============================] - 9s 187ms/step - loss: 1.2765 - accuracy: 0.5348 - val_loss: 1.5263 - val_accuracy: 0.4313\n",
            "Epoch 21/100\n",
            "50/50 [==============================] - 9s 188ms/step - loss: 1.2608 - accuracy: 0.5404 - val_loss: 1.6143 - val_accuracy: 0.4750\n",
            "Epoch 22/100\n",
            "50/50 [==============================] - 10s 190ms/step - loss: 1.2377 - accuracy: 0.5648 - val_loss: 1.3837 - val_accuracy: 0.5562\n",
            "Epoch 23/100\n",
            "50/50 [==============================] - 9s 186ms/step - loss: 1.2448 - accuracy: 0.5441 - val_loss: 1.2349 - val_accuracy: 0.5250\n",
            "Epoch 24/100\n",
            "50/50 [==============================] - 9s 186ms/step - loss: 1.1988 - accuracy: 0.5673 - val_loss: 1.2503 - val_accuracy: 0.5063\n",
            "Epoch 25/100\n",
            "50/50 [==============================] - 9s 186ms/step - loss: 1.1225 - accuracy: 0.5924 - val_loss: 1.1921 - val_accuracy: 0.5500\n",
            "Epoch 26/100\n",
            "50/50 [==============================] - 9s 185ms/step - loss: 1.1623 - accuracy: 0.5842 - val_loss: 1.1169 - val_accuracy: 0.6125\n",
            "Epoch 27/100\n",
            "50/50 [==============================] - 9s 187ms/step - loss: 1.1617 - accuracy: 0.5855 - val_loss: 1.3888 - val_accuracy: 0.5375\n",
            "Epoch 28/100\n",
            "50/50 [==============================] - 9s 187ms/step - loss: 1.1491 - accuracy: 0.5886 - val_loss: 1.0913 - val_accuracy: 0.6187\n",
            "Epoch 29/100\n",
            "50/50 [==============================] - 9s 187ms/step - loss: 1.1587 - accuracy: 0.5936 - val_loss: 0.9814 - val_accuracy: 0.6687\n",
            "Epoch 30/100\n",
            "50/50 [==============================] - 9s 187ms/step - loss: 1.1365 - accuracy: 0.5992 - val_loss: 1.0301 - val_accuracy: 0.6062\n",
            "Epoch 31/100\n",
            "50/50 [==============================] - 10s 190ms/step - loss: 1.1290 - accuracy: 0.5967 - val_loss: 0.9910 - val_accuracy: 0.6438\n",
            "Epoch 32/100\n",
            "50/50 [==============================] - 9s 187ms/step - loss: 1.0990 - accuracy: 0.6111 - val_loss: 1.1174 - val_accuracy: 0.6313\n",
            "Epoch 33/100\n",
            "50/50 [==============================] - 9s 189ms/step - loss: 1.0571 - accuracy: 0.6105 - val_loss: 1.0519 - val_accuracy: 0.5875\n",
            "Epoch 34/100\n",
            "50/50 [==============================] - 9s 187ms/step - loss: 1.0569 - accuracy: 0.6337 - val_loss: 1.1898 - val_accuracy: 0.6313\n",
            "Epoch 35/100\n",
            "50/50 [==============================] - 9s 186ms/step - loss: 1.0782 - accuracy: 0.6218 - val_loss: 1.0747 - val_accuracy: 0.6000\n",
            "Epoch 36/100\n",
            "50/50 [==============================] - 9s 187ms/step - loss: 1.0208 - accuracy: 0.6299 - val_loss: 0.9589 - val_accuracy: 0.6750\n",
            "Epoch 37/100\n",
            "50/50 [==============================] - 9s 187ms/step - loss: 1.0648 - accuracy: 0.6187 - val_loss: 0.9692 - val_accuracy: 0.6687\n",
            "Epoch 38/100\n",
            "50/50 [==============================] - 9s 186ms/step - loss: 1.0607 - accuracy: 0.6125 - val_loss: 1.1946 - val_accuracy: 0.5750\n",
            "Epoch 39/100\n",
            "50/50 [==============================] - 9s 187ms/step - loss: 1.0765 - accuracy: 0.6306 - val_loss: 1.0811 - val_accuracy: 0.6000\n",
            "Epoch 40/100\n",
            "50/50 [==============================] - 10s 190ms/step - loss: 0.9951 - accuracy: 0.6362 - val_loss: 1.1478 - val_accuracy: 0.6000\n",
            "Epoch 41/100\n",
            "50/50 [==============================] - 9s 187ms/step - loss: 1.0116 - accuracy: 0.6463 - val_loss: 0.9453 - val_accuracy: 0.6687\n",
            "Epoch 42/100\n",
            "50/50 [==============================] - 9s 187ms/step - loss: 1.0133 - accuracy: 0.6349 - val_loss: 0.9866 - val_accuracy: 0.6625\n",
            "Epoch 43/100\n",
            "50/50 [==============================] - 9s 189ms/step - loss: 0.9742 - accuracy: 0.6525 - val_loss: 0.8574 - val_accuracy: 0.7063\n",
            "Epoch 44/100\n",
            "50/50 [==============================] - 9s 186ms/step - loss: 0.9791 - accuracy: 0.6506 - val_loss: 1.0731 - val_accuracy: 0.6250\n",
            "Epoch 45/100\n",
            "50/50 [==============================] - 9s 187ms/step - loss: 0.9719 - accuracy: 0.6518 - val_loss: 0.9632 - val_accuracy: 0.5688\n",
            "Epoch 46/100\n",
            "50/50 [==============================] - 9s 187ms/step - loss: 0.9560 - accuracy: 0.6594 - val_loss: 1.0633 - val_accuracy: 0.6375\n",
            "Epoch 47/100\n",
            "50/50 [==============================] - 9s 187ms/step - loss: 0.9993 - accuracy: 0.6462 - val_loss: 1.1105 - val_accuracy: 0.6438\n",
            "Epoch 48/100\n",
            "50/50 [==============================] - 9s 187ms/step - loss: 0.9459 - accuracy: 0.6656 - val_loss: 1.3740 - val_accuracy: 0.4875\n",
            "Epoch 49/100\n",
            "50/50 [==============================] - 9s 189ms/step - loss: 0.9175 - accuracy: 0.6706 - val_loss: 1.0154 - val_accuracy: 0.6625\n",
            "Epoch 50/100\n",
            "50/50 [==============================] - 9s 187ms/step - loss: 0.8977 - accuracy: 0.6881 - val_loss: 1.9004 - val_accuracy: 0.5500\n",
            "Epoch 51/100\n",
            "50/50 [==============================] - 9s 187ms/step - loss: 0.9919 - accuracy: 0.6512 - val_loss: 1.0809 - val_accuracy: 0.5938\n",
            "Epoch 52/100\n",
            "50/50 [==============================] - 9s 183ms/step - loss: 0.9237 - accuracy: 0.6882 - val_loss: 1.0161 - val_accuracy: 0.6375\n",
            "Epoch 53/100\n",
            "50/50 [==============================] - 9s 184ms/step - loss: 0.8935 - accuracy: 0.6875 - val_loss: 1.4100 - val_accuracy: 0.5188\n",
            "Epoch 54/100\n",
            "50/50 [==============================] - 9s 183ms/step - loss: 0.9283 - accuracy: 0.6769 - val_loss: 1.1231 - val_accuracy: 0.5562\n",
            "Epoch 55/100\n",
            "50/50 [==============================] - 9s 183ms/step - loss: 0.9372 - accuracy: 0.6713 - val_loss: 1.0821 - val_accuracy: 0.6687\n",
            "Epoch 56/100\n",
            "50/50 [==============================] - 9s 185ms/step - loss: 0.9508 - accuracy: 0.6750 - val_loss: 1.2017 - val_accuracy: 0.5375\n",
            "Epoch 57/100\n",
            "50/50 [==============================] - 9s 186ms/step - loss: 0.9131 - accuracy: 0.6825 - val_loss: 0.8551 - val_accuracy: 0.7000\n",
            "Epoch 58/100\n",
            "50/50 [==============================] - 9s 184ms/step - loss: 0.9196 - accuracy: 0.6688 - val_loss: 0.9302 - val_accuracy: 0.6500\n",
            "Epoch 59/100\n",
            "50/50 [==============================] - 9s 188ms/step - loss: 0.9100 - accuracy: 0.6769 - val_loss: 0.9701 - val_accuracy: 0.6375\n",
            "Epoch 60/100\n",
            "50/50 [==============================] - 9s 186ms/step - loss: 0.8835 - accuracy: 0.7038 - val_loss: 1.4540 - val_accuracy: 0.6250\n",
            "Epoch 61/100\n",
            "50/50 [==============================] - 9s 185ms/step - loss: 0.8379 - accuracy: 0.7038 - val_loss: 1.0630 - val_accuracy: 0.7063\n",
            "Epoch 62/100\n",
            "50/50 [==============================] - 9s 184ms/step - loss: 0.8928 - accuracy: 0.6919 - val_loss: 0.8888 - val_accuracy: 0.6938\n",
            "Epoch 63/100\n",
            "50/50 [==============================] - 9s 184ms/step - loss: 0.8524 - accuracy: 0.7025 - val_loss: 1.4422 - val_accuracy: 0.6250\n",
            "Epoch 64/100\n",
            "50/50 [==============================] - 9s 184ms/step - loss: 0.9386 - accuracy: 0.6894 - val_loss: 1.0490 - val_accuracy: 0.6000\n",
            "Epoch 65/100\n",
            "50/50 [==============================] - 9s 185ms/step - loss: 0.9133 - accuracy: 0.6976 - val_loss: 1.2389 - val_accuracy: 0.6250\n",
            "Epoch 66/100\n",
            "50/50 [==============================] - 9s 184ms/step - loss: 0.8551 - accuracy: 0.6951 - val_loss: 0.9468 - val_accuracy: 0.6687\n",
            "Epoch 67/100\n",
            "50/50 [==============================] - 9s 184ms/step - loss: 0.8944 - accuracy: 0.7001 - val_loss: 0.9303 - val_accuracy: 0.7188\n",
            "Epoch 68/100\n",
            "50/50 [==============================] - 9s 189ms/step - loss: 0.8518 - accuracy: 0.7157 - val_loss: 1.0922 - val_accuracy: 0.6500\n",
            "Epoch 69/100\n",
            "50/50 [==============================] - 9s 184ms/step - loss: 0.8433 - accuracy: 0.7076 - val_loss: 1.4884 - val_accuracy: 0.6250\n",
            "Epoch 70/100\n",
            "50/50 [==============================] - 9s 184ms/step - loss: 0.8975 - accuracy: 0.7038 - val_loss: 1.0436 - val_accuracy: 0.6750\n",
            "Epoch 71/100\n",
            "50/50 [==============================] - 9s 185ms/step - loss: 0.8399 - accuracy: 0.7075 - val_loss: 1.1633 - val_accuracy: 0.6812\n",
            "Epoch 72/100\n",
            "50/50 [==============================] - 9s 183ms/step - loss: 0.9151 - accuracy: 0.6894 - val_loss: 1.1158 - val_accuracy: 0.5938\n",
            "Epoch 73/100\n",
            "50/50 [==============================] - 9s 184ms/step - loss: 0.8549 - accuracy: 0.7145 - val_loss: 1.7466 - val_accuracy: 0.5562\n",
            "Epoch 74/100\n",
            "50/50 [==============================] - 9s 185ms/step - loss: 0.8264 - accuracy: 0.7145 - val_loss: 1.2540 - val_accuracy: 0.5938\n",
            "Epoch 75/100\n",
            "50/50 [==============================] - 9s 183ms/step - loss: 0.8776 - accuracy: 0.6932 - val_loss: 0.8979 - val_accuracy: 0.6750\n",
            "Epoch 76/100\n",
            "50/50 [==============================] - 9s 184ms/step - loss: 0.8232 - accuracy: 0.7326 - val_loss: 1.1985 - val_accuracy: 0.6562\n",
            "Epoch 77/100\n",
            "50/50 [==============================] - 9s 187ms/step - loss: 0.8501 - accuracy: 0.7088 - val_loss: 0.8960 - val_accuracy: 0.6438\n",
            "Epoch 78/100\n",
            "50/50 [==============================] - 9s 183ms/step - loss: 0.8740 - accuracy: 0.7081 - val_loss: 0.8034 - val_accuracy: 0.7125\n",
            "Epoch 79/100\n",
            "50/50 [==============================] - 9s 184ms/step - loss: 0.8546 - accuracy: 0.7031 - val_loss: 1.9392 - val_accuracy: 0.6000\n",
            "Epoch 80/100\n",
            "50/50 [==============================] - 9s 184ms/step - loss: 0.9194 - accuracy: 0.6938 - val_loss: 1.1283 - val_accuracy: 0.6687\n",
            "Epoch 81/100\n",
            "50/50 [==============================] - 9s 185ms/step - loss: 0.8259 - accuracy: 0.7163 - val_loss: 1.5933 - val_accuracy: 0.6062\n",
            "Epoch 82/100\n",
            "50/50 [==============================] - 9s 185ms/step - loss: 0.8692 - accuracy: 0.7138 - val_loss: 1.6741 - val_accuracy: 0.5625\n",
            "Epoch 83/100\n",
            "50/50 [==============================] - 9s 186ms/step - loss: 0.8641 - accuracy: 0.7113 - val_loss: 1.0471 - val_accuracy: 0.6125\n",
            "Epoch 84/100\n",
            "50/50 [==============================] - 9s 185ms/step - loss: 0.8249 - accuracy: 0.7201 - val_loss: 1.7048 - val_accuracy: 0.6125\n",
            "Epoch 85/100\n",
            "50/50 [==============================] - 9s 184ms/step - loss: 0.8203 - accuracy: 0.7220 - val_loss: 1.2669 - val_accuracy: 0.5625\n",
            "Epoch 86/100\n",
            "50/50 [==============================] - 9s 189ms/step - loss: 0.8648 - accuracy: 0.7120 - val_loss: 0.9768 - val_accuracy: 0.6500\n",
            "Epoch 87/100\n",
            "50/50 [==============================] - 9s 185ms/step - loss: 0.8182 - accuracy: 0.7182 - val_loss: 1.1781 - val_accuracy: 0.6750\n",
            "Epoch 88/100\n",
            "50/50 [==============================] - 9s 185ms/step - loss: 0.8656 - accuracy: 0.7082 - val_loss: 1.7471 - val_accuracy: 0.6125\n",
            "Epoch 89/100\n",
            "50/50 [==============================] - 9s 186ms/step - loss: 0.8874 - accuracy: 0.6994 - val_loss: 1.9567 - val_accuracy: 0.5562\n",
            "Epoch 90/100\n",
            "50/50 [==============================] - 9s 185ms/step - loss: 0.8150 - accuracy: 0.7226 - val_loss: 1.1958 - val_accuracy: 0.7125\n",
            "Epoch 91/100\n",
            "50/50 [==============================] - 9s 186ms/step - loss: 0.8613 - accuracy: 0.7070 - val_loss: 1.4066 - val_accuracy: 0.6000\n",
            "Epoch 92/100\n",
            "50/50 [==============================] - 9s 186ms/step - loss: 0.8276 - accuracy: 0.7239 - val_loss: 1.1288 - val_accuracy: 0.7188\n",
            "Epoch 93/100\n",
            "50/50 [==============================] - 9s 184ms/step - loss: 0.8119 - accuracy: 0.7264 - val_loss: 1.3956 - val_accuracy: 0.6125\n",
            "Epoch 94/100\n",
            "50/50 [==============================] - 9s 185ms/step - loss: 0.8146 - accuracy: 0.7376 - val_loss: 1.1463 - val_accuracy: 0.6562\n",
            "Epoch 95/100\n",
            "50/50 [==============================] - 9s 188ms/step - loss: 0.8323 - accuracy: 0.7269 - val_loss: 2.0860 - val_accuracy: 0.5500\n",
            "Epoch 96/100\n",
            "50/50 [==============================] - 9s 184ms/step - loss: 0.8165 - accuracy: 0.7370 - val_loss: 0.9203 - val_accuracy: 0.6875\n",
            "Epoch 97/100\n",
            "50/50 [==============================] - 9s 182ms/step - loss: 0.8029 - accuracy: 0.7401 - val_loss: 0.8157 - val_accuracy: 0.7063\n",
            "Epoch 98/100\n",
            "50/50 [==============================] - 9s 182ms/step - loss: 0.8909 - accuracy: 0.7082 - val_loss: 1.2221 - val_accuracy: 0.6625\n",
            "Epoch 99/100\n",
            "50/50 [==============================] - 9s 182ms/step - loss: 0.8275 - accuracy: 0.7370 - val_loss: 1.0336 - val_accuracy: 0.6438\n",
            "Epoch 100/100\n",
            "50/50 [==============================] - 9s 183ms/step - loss: 0.8075 - accuracy: 0.7276 - val_loss: 1.6686 - val_accuracy: 0.5562\n"
          ],
          "name": "stdout"
        }
      ]
    },
    {
      "cell_type": "code",
      "metadata": {
        "id": "du_eCEpN6pf3",
        "colab": {
          "base_uri": "https://localhost:8080/",
          "height": 545
        },
        "outputId": "e57df152-db5e-4061-b165-9fde0ec7d061"
      },
      "source": [
        "# show the graphs\n",
        "\n",
        "import matplotlib.pyplot as plt\n",
        "acc = history.history['accuracy']\n",
        "val_acc = history.history['val_accuracy']\n",
        "loss = history.history['loss']\n",
        "val_loss = history.history['val_loss']\n",
        "\n",
        "epochs = range(len(acc))\n",
        "\n",
        "plt.plot(epochs, acc, 'r', label='Training accuracy')\n",
        "plt.plot(epochs, val_acc, 'b', label='Validation accuracy')\n",
        "plt.title('Training and validation accuracy')\n",
        "plt.legend(loc=0)\n",
        "plt.figure()\n",
        "\n",
        "plt.plot(epochs, loss, 'bo', label='Training Loss')\n",
        "plt.plot(epochs, val_loss, 'b', label='Validation Loss')\n",
        "plt.title('Training and validation loss')\n",
        "plt.legend()\n",
        "\n",
        "\n",
        "plt.show()"
      ],
      "execution_count": 7,
      "outputs": [
        {
          "output_type": "display_data",
          "data": {
            "image/png": "[encoded data removed]",
            "text/plain": [
              "<Figure size 432x288 with 1 Axes>"
            ]
          },
          "metadata": {
            "tags": [],
            "needs_background": "light"
          }
        },
        {
          "output_type": "display_data",
          "data": {
            "image/png": "[encoded data removed]",
            "text/plain": [
              "<Figure size 432x288 with 1 Axes>"
            ]
          },
          "metadata": {
            "tags": [],
            "needs_background": "light"
          }
        }
      ]
    },
    {
      "cell_type": "code",
      "metadata": {
        "id": "InrjN0z06use",
        "colab": {
          "resources": {
            "http://localhost:8080/nbextensions/google.colab/files.js": {
              "data": "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",
              "ok": true,
              "headers": [
                [
                  "content-type",
                  "application/javascript"
                ]
              ],
              "status": 200,
              "status_text": ""
            }
          },
          "base_uri": "https://localhost:8080/",
          "height": 108
        },
        "outputId": "88594d19-bf97-40ca-b6cd-0cae5ce441d1"
      },
      "source": [
        "# test by upload an image\n",
        "\n",
        "import numpy as np\n",
        "from google.colab import files\n",
        "from keras.preprocessing import image\n",
        "\n",
        "uploaded = files.upload()\n",
        "\n",
        "for fn in uploaded.keys():\n",
        " \n",
        "  # predicting images\n",
        "  path = fn\n",
        "  img = image.load_img(path, target_size=(150, 150))\n",
        "  x = image.img_to_array(img)\n",
        "  x = np.expand_dims(x, axis=0)\n",
        "\n",
        "  images = np.vstack([x])\n",
        "  classes = model.predict(images, batch_size=10)\n",
        "  print(fn)\n",
        "  print(classes)"
      ],
      "execution_count": 8,
      "outputs": [
        {
          "output_type": "display_data",
          "data": {
            "text/html": [
              "\n",
              "     <input type=\"file\" id=\"files-d530051f-55b0-4c77-9e84-aea620cdd5a3\" name=\"files[]\" multiple disabled\n",
              "        style=\"border:none\" />\n",
              "     <output id=\"result-d530051f-55b0-4c77-9e84-aea620cdd5a3\">\n",
              "      Upload widget is only available when the cell has been executed in the\n",
              "      current browser session. Please rerun this cell to enable.\n",
              "      </output>\n",
              "      <script src=\"/nbextensions/google.colab/files.js\"></script> "
            ],
            "text/plain": [
              "<IPython.core.display.HTML object>"
            ]
          },
          "metadata": {
            "tags": []
          }
        },
        {
          "output_type": "stream",
          "text": [
            "Saving 2020-12-07-15-53-58-343.jpg to 2020-12-07-15-53-58-343.jpg\n",
            "2020-12-07-15-53-58-343.jpg\n",
            "[[0. 1. 0. 0. 0. 0. 0. 0.]]\n"
          ],
          "name": "stdout"
        }
      ]
    },
    {
      "cell_type": "code",
      "metadata": {
        "colab": {
          "base_uri": "https://localhost:8080/"
        },
        "id": "LTK5f5XiH7oT",
        "outputId": "86f2dd74-e508-4708-ee59-eae576ecd462"
      },
      "source": [
        "# export the model\n",
        "\n",
        "ind_food_saved_model = \"ind_food_saved_model\"\n",
        "tf.saved_model.save(model, ind_food_saved_model)"
      ],
      "execution_count": 9,
      "outputs": [
        {
          "output_type": "stream",
          "text": [
            "WARNING:tensorflow:FOR KERAS USERS: The object that you are saving contains one or more Keras models or layers. If you are loading the SavedModel with `tf.keras.models.load_model`, continue reading (otherwise, you may ignore the following instructions). Please change your code to save with `tf.keras.models.save_model` or `model.save`, and confirm that the file \"keras.metadata\" exists in the export directory. In the future, Keras will only load the SavedModels that have this file. In other words, `tf.saved_model.save` will no longer write SavedModels that can be recovered as Keras models (this will apply in TF 2.5).\n",
            "\n",
            "FOR DEVS: If you are overwriting _tracking_metadata in your class, this property has been used to save metadata in the SavedModel. The metadta field will be deprecated soon, so please move the metadata to a different file.\n",
            "INFO:tensorflow:Assets written to: ind_food_saved_model/assets\n"
          ],
          "name": "stdout"
        }
      ]
    },
    {
      "cell_type": "code",
      "metadata": {
        "colab": {
          "base_uri": "https://localhost:8080/"
        },
        "id": "N5Olcnx6IZb1",
        "outputId": "4a45a345-6f29-446d-dc2b-bdad26e04b82"
      },
      "source": [
        "%%bash -s $ind_food_saved_model\n",
        "saved_model_cli show --dir $1 --tag_set serve --signature_def serving_default"
      ],
      "execution_count": 10,
      "outputs": [
        {
          "output_type": "stream",
          "text": [
            "The given SavedModel SignatureDef contains the following input(s):\n",
            "  inputs['conv2d_input'] tensor_info:\n",
            "      dtype: DT_FLOAT\n",
            "      shape: (-1, 150, 150, 3)\n",
            "      name: serving_default_conv2d_input:0\n",
            "The given SavedModel SignatureDef contains the following output(s):\n",
            "  outputs['dense_1'] tensor_info:\n",
            "      dtype: DT_FLOAT\n",
            "      shape: (-1, 8)\n",
            "      name: StatefulPartitionedCall:0\n",
            "Method name is: tensorflow/serving/predict\n"
          ],
          "name": "stdout"
        }
      ]
    },
    {
      "cell_type": "code",
      "metadata": {
        "colab": {
          "base_uri": "https://localhost:8080/"
        },
        "id": "SlmfO3saIfSJ",
        "outputId": "1fc1db5e-9026-4b7e-a6a6-abe64d90dcae"
      },
      "source": [
        "# load the model\n",
        "\n",
        "loaded = tf.saved_model.load(ind_food_saved_model)\n",
        "print(list(loaded.signatures.keys()))\n",
        "infer = loaded.signatures[\"serving_default\"]\n",
        "print(infer.structured_input_signature)\n",
        "print(infer.structured_outputs)"
      ],
      "execution_count": 11,
      "outputs": [
        {
          "output_type": "stream",
          "text": [
            "['serving_default']\n",
            "((), {'conv2d_input': TensorSpec(shape=(None, 150, 150, 3), dtype=tf.float32, name='conv2d_input')})\n",
            "{'dense_1': TensorSpec(shape=(None, 8), dtype=tf.float32, name='dense_1')}\n"
          ],
          "name": "stdout"
        }
      ]
    },
    {
      "cell_type": "code",
      "metadata": {
        "id": "jdKgj05RQUGq"
      },
      "source": [
        "# convert to tflite\n",
        "\n",
        "converter = tf.lite.TFLiteConverter.from_saved_model(ind_food_saved_model)\n",
        "converter.optimizations = [tf.lite.Optimize.OPTIMIZE_FOR_SIZE]\n",
        "tflite_model = converter.convert()\n",
        "\n",
        "tflite_model_file = 'converted_ind_food_model.tflite'\n",
        "with open(tflite_model_file, \"wb\") as f:\n",
        "    f.write(tflite_model)"
      ],
      "execution_count": 12,
      "outputs": []
    },
    {
      "cell_type": "code",
      "metadata": {
        "colab": {
          "base_uri": "https://localhost:8080/",
          "height": 17
        },
        "id": "bhu_JIvRQ13y",
        "outputId": "09616d9c-f071-4983-c848-5a578e27cb60"
      },
      "source": [
        "# download the tflite asset\n",
        "\n",
        "from google.colab import files\n",
        "files.download('converted_ind_food_model.tflite')"
      ],
      "execution_count": 13,
      "outputs": [
        {
          "output_type": "display_data",
          "data": {
            "application/javascript": [
              "\n",
              "    async function download(id, filename, size) {\n",
              "      if (!google.colab.kernel.accessAllowed) {\n",
              "        return;\n",
              "      }\n",
              "      const div = document.createElement('div');\n",
              "      const label = document.createElement('label');\n",
              "      label.textContent = `Downloading \"${filename}\": `;\n",
              "      div.appendChild(label);\n",
              "      const progress = document.createElement('progress');\n",
              "      progress.max = size;\n",
              "      div.appendChild(progress);\n",
              "      document.body.appendChild(div);\n",
              "\n",
              "      const buffers = [];\n",
              "      let downloaded = 0;\n",
              "\n",
              "      const channel = await google.colab.kernel.comms.open(id);\n",
              "      // Send a message to notify the kernel that we're ready.\n",
              "      channel.send({})\n",
              "\n",
              "      for await (const message of channel.messages) {\n",
              "        // Send a message to notify the kernel that we're ready.\n",
              "        channel.send({})\n",
              "        if (message.buffers) {\n",
              "          for (const buffer of message.buffers) {\n",
              "            buffers.push(buffer);\n",
              "            downloaded += buffer.byteLength;\n",
              "            progress.value = downloaded;\n",
              "          }\n",
              "        }\n",
              "      }\n",
              "      const blob = new Blob(buffers, {type: 'application/binary'});\n",
              "      const a = document.createElement('a');\n",
              "      a.href = window.URL.createObjectURL(blob);\n",
              "      a.download = filename;\n",
              "      div.appendChild(a);\n",
              "      a.click();\n",
              "      div.remove();\n",
              "    }\n",
              "  "
            ],
            "text/plain": [
              "<IPython.core.display.Javascript object>"
            ]
          },
          "metadata": {
            "tags": []
          }
        },
        {
          "output_type": "display_data",
          "data": {
            "application/javascript": [
              "download(\"download_667d06ef-5042-4345-856b-39844b3e9ee1\", \"converted_ind_food_model.tflite\", 1480096)"
            ],
            "text/plain": [
              "<IPython.core.display.Javascript object>"
            ]
          },
          "metadata": {
            "tags": []
          }
        }
      ]
    },
    {
      "cell_type": "code",
      "metadata": {
        "id": "hkyAGKaARA9G"
      },
      "source": [
        ""
      ],
      "execution_count": null,
      "outputs": []
    }
  ]
}